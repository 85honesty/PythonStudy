{
  "nbformat": 4,
  "nbformat_minor": 0,
  "metadata": {
    "colab": {
      "name": "Untitled8.ipynb",
      "provenance": [],
      "collapsed_sections": [],
      "authorship_tag": "ABX9TyM8ERWZ7eR33sc9JNGO7Z/9",
      "include_colab_link": true
    },
    "kernelspec": {
      "name": "python3",
      "display_name": "Python 3"
    },
    "language_info": {
      "name": "python"
    }
  },
  "cells": [
    {
      "cell_type": "markdown",
      "metadata": {
        "id": "view-in-github",
        "colab_type": "text"
      },
      "source": [
        "<a href=\"https://colab.research.google.com/github/85honesty/PythonStudy/blob/main/PythonStudy_if_1~2.ipynb\" target=\"_parent\"><img src=\"https://colab.research.google.com/assets/colab-badge.svg\" alt=\"Open In Colab\"/></a>"
      ]
    },
    {
      "cell_type": "markdown",
      "source": [
        "파이썬 if문 연습 - 백준 1 ~ 5문제"
      ],
      "metadata": {
        "id": "8Ph-ITsjqQRZ"
      }
    },
    {
      "cell_type": "markdown",
      "source": [
        "두 수 비교하기\n",
        "\n",
        "문제\n",
        "두 정수 A와 B가 주어졌을 때, A와 B를 비교하는 프로그램을 작성하시오.\n",
        "\n",
        "입력\n",
        "첫째 줄에 A와 B가 주어진다. A와 B는 공백 한 칸으로 구분되어져 있다.\n",
        "\n",
        "출력\n",
        "첫째 줄에 다음 세 가지 중 하나를 출력한다.\n",
        "\n",
        "A가 B보다 큰 경우에는 '>'를 출력한다.\n",
        "A가 B보다 작은 경우에는 '<'를 출력한다.\n",
        "A와 B가 같은 경우에는 '=='를 출력한다.\n",
        "제한\n",
        "-10,000 ≤ A, B ≤ 10,000\n",
        "예제 입력 1 \n",
        "1 2\n",
        "예제 출력 1 \n",
        "<\n",
        "예제 입력 2 \n",
        "10 2\n",
        "예제 출력 2 \n",
        ">\n",
        "예제 입력 3 \n",
        "5 5\n",
        "예제 출력 3 \n",
        "=="
      ],
      "metadata": {
        "id": "L76Xre-Hkf6H"
      }
    },
    {
      "cell_type": "code",
      "execution_count": 2,
      "metadata": {
        "colab": {
          "base_uri": "https://localhost:8080/"
        },
        "id": "2ntCqzSFkIg4",
        "outputId": "32cf5f4e-5f01-4080-91fc-609b46a5aaac"
      },
      "outputs": [
        {
          "output_type": "stream",
          "name": "stdout",
          "text": [
            "<\n"
          ]
        }
      ],
      "source": [
        "a = 3\n",
        "b = 5\n",
        "if a > b :\n",
        "  print('>')\n",
        "if a < b :\n",
        "  print('<')\n",
        "if a == b :\n",
        "  print('==')"
      ]
    },
    {
      "cell_type": "markdown",
      "source": [
        "문제\n",
        "시험 점수를 입력받아 90 ~ 100점은 A, 80 ~ 89점은 B, 70 ~ 79점은 C, 60 ~ 69점은 D, 나머지 점수는 F를 출력하는 프로그램을 작성하시오.\n",
        "\n",
        "입력\n",
        "첫째 줄에 시험 점수가 주어진다. 시험 점수는 0보다 크거나 같고, 100보다 작거나 같은 정수이다.\n",
        "\n",
        "출력\n",
        "시험 성적을 출력한다.\n",
        "\n",
        "예제 입력 1 \n",
        "100\n",
        "예제 출력 1 \n",
        "A\n",
        "출처"
      ],
      "metadata": {
        "id": "KScU2I31lmW7"
      }
    },
    {
      "cell_type": "code",
      "source": [
        "score = 100\n",
        "\n",
        "if 90 <= score <= 100 :\n",
        "  print('A')\n",
        "elif 80 <= score <= 89 :\n",
        "  print('B')\n",
        "elif 70 <= score <= 79 :\n",
        "  print('C')\n",
        "elif 60 <= score <= 69 :\n",
        "  print('D')\n",
        "else :\n",
        "  print('F')"
      ],
      "metadata": {
        "colab": {
          "base_uri": "https://localhost:8080/"
        },
        "id": "4X2dyXHzkQRW",
        "outputId": "67a1f1a6-1289-42da-d029-54ee7ea63d60"
      },
      "execution_count": 10,
      "outputs": [
        {
          "output_type": "stream",
          "name": "stdout",
          "text": [
            "A\n"
          ]
        }
      ]
    },
    {
      "cell_type": "code",
      "source": [
        ""
      ],
      "metadata": {
        "id": "s7tngeDKnUKp"
      },
      "execution_count": null,
      "outputs": []
    }
  ]
}