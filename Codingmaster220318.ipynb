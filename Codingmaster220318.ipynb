{
  "nbformat": 4,
  "nbformat_minor": 0,
  "metadata": {
    "colab": {
      "name": "Codingmaster220318.ipynb",
      "provenance": [],
      "machine_shape": "hm",
      "authorship_tag": "ABX9TyOZld1FjXapvLBBS30CLJA5",
      "include_colab_link": true
    },
    "kernelspec": {
      "name": "python3",
      "display_name": "Python 3"
    },
    "language_info": {
      "name": "python"
    },
    "accelerator": "GPU"
  },
  "cells": [
    {
      "cell_type": "markdown",
      "metadata": {
        "id": "view-in-github",
        "colab_type": "text"
      },
      "source": [
        "<a href=\"https://colab.research.google.com/github/85honesty/PythonStudy/blob/main/Codingmaster220318.ipynb\" target=\"_parent\"><img src=\"https://colab.research.google.com/assets/colab-badge.svg\" alt=\"Open In Colab\"/></a>"
      ]
    },
    {
      "cell_type": "code",
      "execution_count": 1,
      "metadata": {
        "colab": {
          "base_uri": "https://localhost:8080/"
        },
        "id": "8_qZf_wFs7Qy",
        "outputId": "e0d3c6f8-f5c5-49ab-b461-670db80268c9"
      },
      "outputs": [
        {
          "output_type": "execute_result",
          "data": {
            "text/plain": [
              "[19, 34, 10, 14, 43]"
            ]
          },
          "metadata": {},
          "execution_count": 1
        }
      ],
      "source": [
        "import random\n",
        "random.sample(range(1,45),5)"
      ]
    },
    {
      "cell_type": "code",
      "source": [
        "random.sample(range(1,45),5)"
      ],
      "metadata": {
        "colab": {
          "base_uri": "https://localhost:8080/"
        },
        "id": "tmyHOZrvtWuV",
        "outputId": "7fbfb1a2-71c6-4868-c8cc-e1c39cc55e72"
      },
      "execution_count": 4,
      "outputs": [
        {
          "output_type": "execute_result",
          "data": {
            "text/plain": [
              "[42, 44, 5, 19, 22]"
            ]
          },
          "metadata": {},
          "execution_count": 4
        }
      ]
    },
    {
      "cell_type": "code",
      "source": [
        "random.sample(range(1,45),5)"
      ],
      "metadata": {
        "colab": {
          "base_uri": "https://localhost:8080/"
        },
        "id": "X-aWf-rRteoj",
        "outputId": "49b63aff-c663-48a7-eff7-bd0d6bc2245d"
      },
      "execution_count": 5,
      "outputs": [
        {
          "output_type": "execute_result",
          "data": {
            "text/plain": [
              "[9, 43, 25, 6, 11]"
            ]
          },
          "metadata": {},
          "execution_count": 5
        }
      ]
    },
    {
      "cell_type": "code",
      "source": [
        "print('행운을 가지고 싶으신가요?')"
      ],
      "metadata": {
        "colab": {
          "base_uri": "https://localhost:8080/"
        },
        "id": "cs-u9piYtkXz",
        "outputId": "f8c5e8ef-2a5e-4aca-afa0-d118af53b93a"
      },
      "execution_count": 6,
      "outputs": [
        {
          "output_type": "stream",
          "name": "stdout",
          "text": [
            "행운을 가지고 싶으신가요?\n"
          ]
        }
      ]
    },
    {
      "cell_type": "code",
      "source": [
        "lotto = input('행운을 가지고 싶으신가요? ( Y / N )')\n",
        "\n",
        "if lotto == 'Y' or 'y':\n",
        "  print('당신의 행운의 번호는 => ',random.sample(range(1,45),5))\n",
        "else:\n",
        "  print('행운을 빌어요')"
      ],
      "metadata": {
        "colab": {
          "base_uri": "https://localhost:8080/"
        },
        "id": "CTYDJrdVtsEU",
        "outputId": "5ea4717b-00a7-4f94-db35-6e1bfd312a85"
      },
      "execution_count": 12,
      "outputs": [
        {
          "output_type": "stream",
          "name": "stdout",
          "text": [
            "행운을 가지고 싶으신가요? ( Y / N )y\n",
            "당신의 행운의 번호는 =>  [17, 9, 23, 10, 24]\n"
          ]
        }
      ]
    },
    {
      "cell_type": "code",
      "source": [
        "def add(x, y):\n",
        "  return print('두수의 더하기 값은 => ',x + y)\n",
        "\n",
        "def sub(x, y):\n",
        "  return print('두수의 빼기 값은 => ',x - y)\n",
        "\n",
        "def mul(x, y):\n",
        "  return print('두수의 곱하기 값은 => ',x * y)\n",
        "\n",
        "def div(x, y):\n",
        "  return print('두수의 나누기 값은 => ',x / y)\n"
      ],
      "metadata": {
        "id": "1r8Cvxy_uYvr"
      },
      "execution_count": 31,
      "outputs": []
    },
    {
      "cell_type": "code",
      "source": [
        "add(10,20)"
      ],
      "metadata": {
        "colab": {
          "base_uri": "https://localhost:8080/"
        },
        "id": "o9vFTFlTwO_9",
        "outputId": "2583c34a-a9b3-403d-a25c-87dfd4e04fcb"
      },
      "execution_count": 25,
      "outputs": [
        {
          "output_type": "stream",
          "name": "stdout",
          "text": [
            "두수의 더하기 값은 =>  30\n"
          ]
        }
      ]
    },
    {
      "cell_type": "code",
      "source": [
        "sub(10,20)"
      ],
      "metadata": {
        "colab": {
          "base_uri": "https://localhost:8080/"
        },
        "id": "lV3wH3_kwHvU",
        "outputId": "cf00b6c7-1f4b-427b-c379-0cf2aba9b1d9"
      },
      "execution_count": 26,
      "outputs": [
        {
          "output_type": "stream",
          "name": "stdout",
          "text": [
            "두수의 빼기 값은 =>  -10\n"
          ]
        }
      ]
    },
    {
      "cell_type": "code",
      "source": [
        "mul(10,20)"
      ],
      "metadata": {
        "colab": {
          "base_uri": "https://localhost:8080/"
        },
        "id": "19SoKjXcwhAz",
        "outputId": "eac5cdbb-410a-4353-8e37-08f1d2ac72af"
      },
      "execution_count": 27,
      "outputs": [
        {
          "output_type": "stream",
          "name": "stdout",
          "text": [
            "두수의 곱하기 값은 =>  200\n"
          ]
        }
      ]
    },
    {
      "cell_type": "code",
      "source": [
        "div(10,20)"
      ],
      "metadata": {
        "colab": {
          "base_uri": "https://localhost:8080/"
        },
        "id": "FoTZM6POwl2b",
        "outputId": "9e490da5-f402-4829-fa55-53785bfcd7d6"
      },
      "execution_count": 28,
      "outputs": [
        {
          "output_type": "stream",
          "name": "stdout",
          "text": [
            "두수의 나누기 값은 =>  0.5\n"
          ]
        }
      ]
    },
    {
      "cell_type": "code",
      "source": [
        "choice = input('사칙연산 1. 더하기/2. 빼기/3. 곱하기/4. 나누기):')\n",
        "\n",
        "num1 = int(input('첫번째 숫자 : '))\n",
        "num2 = int(input('두번째 숫자 : '))\n",
        "\n",
        "if choice == '1':\n",
        "  print(num1,\"+\",num2,\"=\", (num1+num2))\n",
        "\n",
        "elif choice == '2':\n",
        "  print(num1,\"-\",num2,\"=\", (num1-num2))\n",
        "\n",
        "elif choice == '3':\n",
        "  print(num1,\"*\",num2,\"=\", (num1*num2))\n",
        "\n",
        "elif choice == '4':\n",
        "  print(num1,\"/\",num2,\"=\", (num1/num2))\n",
        "else:\n",
        "  print(\"다시 선택\")"
      ],
      "metadata": {
        "colab": {
          "base_uri": "https://localhost:8080/"
        },
        "id": "TglbHsYswn3r",
        "outputId": "e4fea658-19ad-41e0-c1cf-86715827960f"
      },
      "execution_count": 38,
      "outputs": [
        {
          "output_type": "stream",
          "name": "stdout",
          "text": [
            "사칙연산 1. 더하기/2. 빼기/3. 곱하기/4. 나누기):4\n",
            "첫번째 숫자 : 10\n",
            "두번째 숫자 : 20\n",
            "10 / 20 = 0.5\n"
          ]
        }
      ]
    },
    {
      "cell_type": "code",
      "source": [
        "2"
      ],
      "metadata": {
        "id": "eCA5uAe7xljV"
      },
      "execution_count": 35,
      "outputs": []
    }
  ]
}