{
 "cells": [
  {
   "cell_type": "markdown",
   "id": "09a8c186",
   "metadata": {},
   "source": [
    "# 리스트 [] 대괄호\n",
    "# 튜플 (),  괄호\n",
    "# 딕셔너리 {} "
   ]
  },
  {
   "cell_type": "markdown",
   "id": "694a82a4",
   "metadata": {},
   "source": [
    "# 리스트"
   ]
  },
  {
   "cell_type": "code",
   "execution_count": 25,
   "id": "67f61f8f",
   "metadata": {},
   "outputs": [
    {
     "name": "stdout",
     "output_type": "stream",
     "text": [
      "[38, 21, 53, 62, 19]\n"
     ]
    },
    {
     "data": {
      "text/plain": [
       "[38, 21, 53, 62, 19]"
      ]
     },
     "execution_count": 25,
     "metadata": {},
     "output_type": "execute_result"
    }
   ],
   "source": [
    "# 코딩도장 Unit 10 리스트와 튜플 사용하기\n",
    "# 변수의 값은 하나의 값을 한 개씩만 저장\n",
    "# 변수 = 값 : 값이 한개\n",
    "# 리스트 = [값, 값, 값] = 값이 여러개 , 나를 편하게 해주는 매직 같은 리스트 갓 값 값\n",
    "a = [38, 21, 53, 62, 19]\n",
    "print(a)\n",
    "a\n"
   ]
  },
  {
   "cell_type": "code",
   "execution_count": 26,
   "id": "1ee855ed",
   "metadata": {},
   "outputs": [
    {
     "data": {
      "text/plain": [
       "['james', 17, 175.3, True]"
      ]
     },
     "execution_count": 26,
     "metadata": {},
     "output_type": "execute_result"
    }
   ],
   "source": [
    "# a = [38, 21, 53, 62, 19] : 요소(element), 요소들\n",
    "person = ['james', 17, 175.3, True]\n",
    "person"
   ]
  },
  {
   "cell_type": "code",
   "execution_count": 27,
   "id": "bfd654f9",
   "metadata": {},
   "outputs": [
    {
     "name": "stdout",
     "output_type": "stream",
     "text": [
      "[]\n",
      "[]\n"
     ]
    },
    {
     "data": {
      "text/plain": [
       "[]"
      ]
     },
     "execution_count": 27,
     "metadata": {},
     "output_type": "execute_result"
    }
   ],
   "source": [
    "# None = [] # NOTE : None은 안됨\n",
    "a = []\n",
    "b = list()\n",
    "\n",
    "print(a) # *프린트함수를 사용하면 빈리스트 표시됨\n",
    "print(b)\n",
    "a # *빈리스트는 표시 안됨\n",
    "b"
   ]
  },
  {
   "cell_type": "code",
   "execution_count": 28,
   "id": "f41cbe73",
   "metadata": {},
   "outputs": [
    {
     "data": {
      "text/plain": [
       "range(0, 10)"
      ]
     },
     "execution_count": 28,
     "metadata": {},
     "output_type": "execute_result"
    }
   ],
   "source": [
    "range(10)"
   ]
  },
  {
   "cell_type": "code",
   "execution_count": 29,
   "id": "a9880140",
   "metadata": {},
   "outputs": [
    {
     "data": {
      "text/plain": [
       "[0, 1, 2, 3, 4, 5, 6, 7, 8, 9]"
      ]
     },
     "execution_count": 29,
     "metadata": {},
     "output_type": "execute_result"
    }
   ],
   "source": [
    "a = list(range(10)) #요소(element)들을 나타낼 수 있다\n",
    "a"
   ]
  },
  {
   "cell_type": "code",
   "execution_count": 30,
   "id": "dfbbb74a",
   "metadata": {},
   "outputs": [
    {
     "data": {
      "text/plain": [
       "[5, 6, 7, 8, 9, 10, 11]"
      ]
     },
     "execution_count": 30,
     "metadata": {},
     "output_type": "execute_result"
    }
   ],
   "source": [
    "#b = list(range(시작,끝))\n",
    "b = list(range(5,12))\n",
    "b"
   ]
  },
  {
   "cell_type": "code",
   "execution_count": 31,
   "id": "69e5a18c",
   "metadata": {},
   "outputs": [
    {
     "data": {
      "text/plain": [
       "[-4, -2, 0, 2, 4, 6, 8]"
      ]
     },
     "execution_count": 31,
     "metadata": {},
     "output_type": "execute_result"
    }
   ],
   "source": [
    "c = list(range(-4, 10, 2))\n",
    "c"
   ]
  },
  {
   "cell_type": "code",
   "execution_count": 32,
   "id": "96097873",
   "metadata": {},
   "outputs": [
    {
     "data": {
      "text/plain": [
       "[10, 9, 8, 7, 6, 5, 4, 3, 2, 1]"
      ]
     },
     "execution_count": 32,
     "metadata": {},
     "output_type": "execute_result"
    }
   ],
   "source": [
    "d = list(range(10, 0, -1))\n",
    "d"
   ]
  },
  {
   "cell_type": "code",
   "execution_count": 33,
   "id": "4c2ffd60",
   "metadata": {},
   "outputs": [
    {
     "data": {
      "text/plain": [
       "[10, 9, 8, 7, 6, 5, 4, 3, 2, 1]"
      ]
     },
     "execution_count": 33,
     "metadata": {},
     "output_type": "execute_result"
    }
   ],
   "source": [
    "f = list(range(10, 0, -1))\n",
    "f"
   ]
  },
  {
   "cell_type": "markdown",
   "id": "0d375e29",
   "metadata": {},
   "source": [
    "# 튜플"
   ]
  },
  {
   "cell_type": "code",
   "execution_count": 46,
   "id": "894ac86a",
   "metadata": {},
   "outputs": [
    {
     "data": {
      "text/plain": [
       "(38, 21, 53, 62, 19)"
      ]
     },
     "execution_count": 46,
     "metadata": {},
     "output_type": "execute_result"
    }
   ],
   "source": [
    "# 튜플 = (값, 값, 값)\n",
    "# 튜플 = 값, 값, 값\n",
    "a = 38, 21, 53, 62, 19\n",
    "b = (38, 21, 53, 62, 19)\n",
    "#a\n",
    "b\n",
    "#print(a)\n",
    "#print(b)"
   ]
  },
  {
   "cell_type": "code",
   "execution_count": 45,
   "id": "ac1126b1",
   "metadata": {},
   "outputs": [
    {
     "data": {
      "text/plain": [
       "(38, 21, 53, 62, 19)"
      ]
     },
     "execution_count": 45,
     "metadata": {},
     "output_type": "execute_result"
    }
   ],
   "source": [
    "a = 38, 21, 53, 62, 19\n",
    "a"
   ]
  },
  {
   "cell_type": "code",
   "execution_count": 49,
   "id": "3127ff74",
   "metadata": {},
   "outputs": [
    {
     "data": {
      "text/plain": [
       "('james', 17, 175.3, True)"
      ]
     },
     "execution_count": 49,
     "metadata": {},
     "output_type": "execute_result"
    }
   ],
   "source": [
    "#튜플 괄호()로 묶여있다\n",
    "person = ('james', 17, 175.3, True)\n",
    "person"
   ]
  },
  {
   "cell_type": "code",
   "execution_count": 50,
   "id": "256de532",
   "metadata": {},
   "outputs": [
    {
     "data": {
      "text/plain": [
       "['james', 17, 175.3, True]"
      ]
     },
     "execution_count": 50,
     "metadata": {},
     "output_type": "execute_result"
    }
   ],
   "source": [
    "#리스트 꺽새?[]로 묶여있다\n",
    "person = ['james', 17, 175.3, True]\n",
    "person"
   ]
  },
  {
   "cell_type": "code",
   "execution_count": 51,
   "id": "bcf6325b",
   "metadata": {},
   "outputs": [
    {
     "data": {
      "text/plain": [
       "38"
      ]
     },
     "execution_count": 51,
     "metadata": {},
     "output_type": "execute_result"
    }
   ],
   "source": [
    "# 요소가 한 개 들어있는 튜플 만들기\n",
    "(38)\n",
    "38"
   ]
  },
  {
   "cell_type": "code",
   "execution_count": 52,
   "id": "e54576a0",
   "metadata": {},
   "outputs": [
    {
     "data": {
      "text/plain": [
       "77"
      ]
     },
     "execution_count": 52,
     "metadata": {},
     "output_type": "execute_result"
    }
   ],
   "source": [
    "# 요소가 한 개 들어있는 튜플 만들기\n",
    "(77)\n",
    "77"
   ]
  },
  {
   "cell_type": "code",
   "execution_count": 54,
   "id": "e4e43f21",
   "metadata": {},
   "outputs": [
    {
     "data": {
      "text/plain": [
       "(77, 81)"
      ]
     },
     "execution_count": 54,
     "metadata": {},
     "output_type": "execute_result"
    }
   ],
   "source": [
    "# 요소가 한 개 들어있는 튜플 만들기\n",
    "(77,81)\n",
    "77,81"
   ]
  },
  {
   "cell_type": "code",
   "execution_count": 55,
   "id": "05d78abb",
   "metadata": {},
   "outputs": [
    {
     "data": {
      "text/plain": [
       "(77,)"
      ]
     },
     "execution_count": 55,
     "metadata": {},
     "output_type": "execute_result"
    }
   ],
   "source": [
    "# 요소가 한 개 들어있는 튜플 만들기\n",
    "(77,)\n",
    "77,"
   ]
  },
  {
   "cell_type": "code",
   "execution_count": 56,
   "id": "9170fe35",
   "metadata": {},
   "outputs": [
    {
     "data": {
      "text/plain": [
       "(77,)"
      ]
     },
     "execution_count": 56,
     "metadata": {},
     "output_type": "execute_result"
    }
   ],
   "source": [
    "# 요소가 한 개 들어있는 튜플 만들기\n",
    "77,\n",
    "77,"
   ]
  },
  {
   "cell_type": "markdown",
   "id": "71f272e1",
   "metadata": {},
   "source": [
    "## range를 사용하여 튜플 만들기"
   ]
  },
  {
   "cell_type": "code",
   "execution_count": 57,
   "id": "5f0a150d",
   "metadata": {},
   "outputs": [
    {
     "data": {
      "text/plain": [
       "(0, 1, 2, 3, 4, 5, 6, 7, 8, 9)"
      ]
     },
     "execution_count": 57,
     "metadata": {},
     "output_type": "execute_result"
    }
   ],
   "source": [
    "# 튜플 = tuple(range(횟수))\n",
    "a = tuple(range(10))\n",
    "a"
   ]
  },
  {
   "cell_type": "code",
   "execution_count": 58,
   "id": "94135e16",
   "metadata": {},
   "outputs": [
    {
     "data": {
      "text/plain": [
       "(5, 6, 7, 8, 9, 10, 11)"
      ]
     },
     "execution_count": 58,
     "metadata": {},
     "output_type": "execute_result"
    }
   ],
   "source": [
    "b = tuple(range(5, 12))\n",
    "b"
   ]
  },
  {
   "cell_type": "code",
   "execution_count": 61,
   "id": "c1aa7864",
   "metadata": {},
   "outputs": [
    {
     "data": {
      "text/plain": [
       "(-4, -2, 0, 2, 4, 6, 8)"
      ]
     },
     "execution_count": 61,
     "metadata": {},
     "output_type": "execute_result"
    }
   ],
   "source": [
    "# 튜플=tuple(range(시작,끝,증가폭))\n",
    "c = tuple(range(-4, 10, 2))# 10을 포함하려면 : c = tuple(range(-4, 12, 2))\n",
    "c"
   ]
  },
  {
   "cell_type": "markdown",
   "id": "8f0d0c24",
   "metadata": {},
   "source": [
    "## *튜플, 리스트 형태변환\n",
    "## 튜플을 리스트로 만들고 리스트를 튜플로 만들기\n",
    "> ### 튜플 -> 리스트, 리스트 -> 튜플, 튜플 <->리스트"
   ]
  },
  {
   "cell_type": "code",
   "execution_count": 62,
   "id": "b0be6d67",
   "metadata": {},
   "outputs": [
    {
     "data": {
      "text/plain": [
       "(1, 2, 3)"
      ]
     },
     "execution_count": 62,
     "metadata": {},
     "output_type": "execute_result"
    }
   ],
   "source": [
    "# 리스트 -> 튜플\n",
    "# list -> tuple\n",
    "a = [1, 2, 3]\n",
    "tuple(a)"
   ]
  },
  {
   "cell_type": "code",
   "execution_count": 63,
   "id": "810be885",
   "metadata": {},
   "outputs": [
    {
     "data": {
      "text/plain": [
       "[4, 5, 6]"
      ]
     },
     "execution_count": 63,
     "metadata": {},
     "output_type": "execute_result"
    }
   ],
   "source": [
    "# 튜플 -> 리스트\n",
    "# tuple -> list\n",
    "b = (4, 5, 6)\n",
    "list(b)"
   ]
  },
  {
   "cell_type": "code",
   "execution_count": 64,
   "id": "f623fd65",
   "metadata": {},
   "outputs": [
    {
     "data": {
      "text/plain": [
       "['H', 'e', 'l', 'l', 'o']"
      ]
     },
     "execution_count": 64,
     "metadata": {},
     "output_type": "execute_result"
    }
   ],
   "source": [
    "list('Hello')\n"
   ]
  },
  {
   "cell_type": "code",
   "execution_count": 65,
   "id": "ae70e563",
   "metadata": {},
   "outputs": [
    {
     "data": {
      "text/plain": [
       "('H', 'e', 'l', 'l', 'o')"
      ]
     },
     "execution_count": 65,
     "metadata": {},
     "output_type": "execute_result"
    }
   ],
   "source": [
    "tuple('Hello')"
   ]
  },
  {
   "cell_type": "code",
   "execution_count": 72,
   "id": "9a1a6b18",
   "metadata": {},
   "outputs": [
    {
     "name": "stdout",
     "output_type": "stream",
     "text": [
      "1 2 3 : 변수여러개와 여러개의 값을 한번에 지정"
     ]
    }
   ],
   "source": [
    "# 리스트와 튜플로 변수 만들기\n",
    "a, b, c = [1, 2, 3]\n",
    "print(a, b, c, end= ' : 변수여러개와 여러개의 값을 한번에 지정')"
   ]
  },
  {
   "cell_type": "code",
   "execution_count": 73,
   "id": "3544d136",
   "metadata": {},
   "outputs": [
    {
     "name": "stdout",
     "output_type": "stream",
     "text": [
      "4 5 6\n"
     ]
    }
   ],
   "source": [
    "d,e,f = (4, 5, 6)\n",
    "print(d, e, f)"
   ]
  },
  {
   "cell_type": "code",
   "execution_count": 74,
   "id": "e4f8a677",
   "metadata": {},
   "outputs": [
    {
     "data": {
      "text/plain": [
       "4"
      ]
     },
     "execution_count": 74,
     "metadata": {},
     "output_type": "execute_result"
    }
   ],
   "source": [
    "d"
   ]
  },
  {
   "cell_type": "code",
   "execution_count": 75,
   "id": "3bbf0195",
   "metadata": {},
   "outputs": [
    {
     "data": {
      "text/plain": [
       "5"
      ]
     },
     "execution_count": 75,
     "metadata": {},
     "output_type": "execute_result"
    }
   ],
   "source": [
    "e"
   ]
  },
  {
   "cell_type": "code",
   "execution_count": 76,
   "id": "5d6e7afe",
   "metadata": {},
   "outputs": [
    {
     "data": {
      "text/plain": [
       "6"
      ]
     },
     "execution_count": 76,
     "metadata": {},
     "output_type": "execute_result"
    }
   ],
   "source": [
    "f"
   ]
  },
  {
   "cell_type": "markdown",
   "id": "07a6f94a",
   "metadata": {},
   "source": [
    "# 리스트와 튜플의 요소를 변수 여러 개에 할당할는 것을 리스트 언패킹(list unpacking), 튜플 언팽킹(tuple unpacking)\n",
    ">리스트 언패킹(list unpacking)\n",
    "a, b, c = [1, 2, 3]\n",
    "print(a, b, c)\n",
    "\n",
    ">튜플 언팽킹(tuple unpacking)\n",
    "d,e,f = (4, 5, 6)\n",
    "print(d, e, f)"
   ]
  },
  {
   "cell_type": "code",
   "execution_count": 81,
   "id": "283d5797",
   "metadata": {},
   "outputs": [
    {
     "name": "stdout",
     "output_type": "stream",
     "text": [
      "1\n",
      "2\n",
      "3\n",
      "1 2 3\n"
     ]
    }
   ],
   "source": [
    "x = [1, 2, 3]\n",
    "a, b, c = x # 리스트 언패킹(list unpacking) :  리스트에 요소를 여러개의 변수에 할당 : 패킹 묶는다(합친다), 언패킹 묶지 않는다(나눈다)\n",
    "\n",
    "print(a)\n",
    "print(b)\n",
    "print(c)\n",
    "\n",
    "print(a, b, c)"
   ]
  },
  {
   "cell_type": "code",
   "execution_count": 83,
   "id": "05e8b04e",
   "metadata": {},
   "outputs": [
    {
     "name": "stdout",
     "output_type": "stream",
     "text": [
      "4\n",
      "5\n",
      "6\n",
      "4 5 6\n"
     ]
    }
   ],
   "source": [
    "y = (4, 5, 6)\n",
    "d, e, f = y # 튜플 언패킹(Tuple unpacking) : 튜플에 요소를 여러개의 변수에 할당 : 패킹 묶는다(합친다), 언패킹 묶지 않는다(나눈다)\n",
    "\n",
    "print(d)\n",
    "print(e)\n",
    "print(f)\n",
    "\n",
    "print(d, e, f)"
   ]
  },
  {
   "cell_type": "code",
   "execution_count": 85,
   "id": "af53df7a",
   "metadata": {},
   "outputs": [
    {
     "name": "stdout",
     "output_type": "stream",
     "text": [
      "10 20\n"
     ]
    },
    {
     "data": {
      "text/plain": [
       "['10', '20']"
      ]
     },
     "execution_count": 85,
     "metadata": {},
     "output_type": "execute_result"
    }
   ],
   "source": [
    "#\n",
    "\n",
    "input().split()\n"
   ]
  },
  {
   "cell_type": "code",
   "execution_count": 86,
   "id": "ead80878",
   "metadata": {},
   "outputs": [
    {
     "name": "stdout",
     "output_type": "stream",
     "text": [
      "20 30\n"
     ]
    }
   ],
   "source": [
    "x = input().split()"
   ]
  },
  {
   "cell_type": "code",
   "execution_count": 87,
   "id": "068cd04f",
   "metadata": {},
   "outputs": [
    {
     "name": "stdout",
     "output_type": "stream",
     "text": [
      "50 70\n"
     ]
    }
   ],
   "source": [
    "x = input().split()\n",
    "a, b = x"
   ]
  },
  {
   "cell_type": "code",
   "execution_count": 90,
   "id": "b60b4016",
   "metadata": {},
   "outputs": [
    {
     "name": "stdout",
     "output_type": "stream",
     "text": [
      "50\n",
      "70\n"
     ]
    }
   ],
   "source": [
    "print(a)\n",
    "print(b)"
   ]
  },
  {
   "cell_type": "code",
   "execution_count": 92,
   "id": "0d1ca0a3",
   "metadata": {},
   "outputs": [
    {
     "name": "stdout",
     "output_type": "stream",
     "text": [
      "3 8\n",
      "3 8\n"
     ]
    }
   ],
   "source": [
    "x = input().split()\n",
    "a, b = x\n",
    "\n",
    "print(a, b)"
   ]
  },
  {
   "cell_type": "code",
   "execution_count": 93,
   "id": "e18d95ad",
   "metadata": {},
   "outputs": [
    {
     "name": "stdout",
     "output_type": "stream",
     "text": [
      "8 3\n",
      "8 3\n"
     ]
    }
   ],
   "source": [
    "a, b = input().split()\n",
    "print(a,b)"
   ]
  },
  {
   "cell_type": "code",
   "execution_count": null,
   "id": "cc084765",
   "metadata": {},
   "outputs": [],
   "source": [
    "# 리스트 패킹, 튜플 캐핑 : 리스트 또는 튜플 할당하는 과정\n",
    "# 패킹 묶는다(합친다), 언패킹 묶지 않는다(나눈다)\n",
    "a = [1, 2, 3] # 리스트 패킹\n",
    "b = (1, 2, 3) # 튜플 패킹\n",
    "c = 1, 2, 3 # 튜플 패킹"
   ]
  },
  {
   "cell_type": "code",
   "execution_count": 101,
   "id": "4223646f",
   "metadata": {},
   "outputs": [
    {
     "data": {
      "text/plain": [
       "[]"
      ]
     },
     "execution_count": 101,
     "metadata": {},
     "output_type": "execute_result"
    }
   ],
   "source": [
    "# 코딩도장 연습문제 10.4\n",
    "a = list(range(5, -11, 2)) # NOTE : 폭 감소폭을 -2로 안하고 2로 했더니 나타나지 않아서 한참 찾음\n",
    "a"
   ]
  },
  {
   "cell_type": "code",
   "execution_count": 102,
   "id": "2e0a2eae",
   "metadata": {},
   "outputs": [
    {
     "data": {
      "text/plain": [
       "[5, 3, 1, -1, -3, -5, -7, -9]"
      ]
     },
     "execution_count": 102,
     "metadata": {},
     "output_type": "execute_result"
    }
   ],
   "source": [
    "# 코딩도장 연습문제 10.4\n",
    "a = list(range(5, -11, -2)) # NOTE : 폭 감소폭을 -2수정 후 나타남 리스트 표시\n",
    "a"
   ]
  },
  {
   "cell_type": "code",
   "execution_count": 116,
   "id": "5e87a2ee",
   "metadata": {},
   "outputs": [
    {
     "name": "stdout",
     "output_type": "stream",
     "text": [
      "2\n",
      "(-10, 10, 2) 실패\n"
     ]
    }
   ],
   "source": [
    "# 심사문제 : range로 튜플 만들기\n",
    "# range로 튜플 만들기\n",
    "n = int(input())\n",
    "a = tuple((-10, 10, n)) #NOTE : range() 함수를 넣지 않고 해서 오류가 났음/ 순간 반복적으로 시작과 끝 증가폭으로 만들기만 하고 tuple() 생성함\n",
    "print(a, '실패')"
   ]
  },
  {
   "cell_type": "code",
   "execution_count": 112,
   "id": "d4b4d059",
   "metadata": {},
   "outputs": [
    {
     "name": "stdout",
     "output_type": "stream",
     "text": [
      "2\n",
      "(-10, -8, -6, -4, -2, 0, 2, 4, 6, 8) 성공\n"
     ]
    }
   ],
   "source": [
    "# 심사문제 : range로 튜플 만들기\n",
    "# range로 튜플 만들기\n",
    "n = int(input())\n",
    "a = tuple(range(-10, 10, n)) #NOTE : range() 함수를 넣지 않고 해서 오류가 났음/ 순간 반복적으로 시작과 끝 증가폭으로 만들기만 하고 tuple() 생성함\n",
    "print(a, '성공')"
   ]
  },
  {
   "cell_type": "markdown",
   "id": "b4c57511",
   "metadata": {},
   "source": [
    "# 딕셔너리 : 값에 이름 붙이는 기능"
   ]
  },
  {
   "cell_type": "code",
   "execution_count": null,
   "id": "ba0b2f89",
   "metadata": {},
   "outputs": [],
   "source": [
    "# Unit 12 딕셔너리 사용\n",
    "lux = [490, 334, 550, 18.72]\n",
    "# 게임 캐릭터 능력치 : 딕셔너리의 저장하기\n",
    "lux = {'health': 490, 'mana': 334, 'melee': 550, 'armor': 18.77}\n",
    "# 딕셔너리는 값마다 이름을 붙여서 저장하는 방식 / 슬슬 재미있어지네~\n"
   ]
  },
  {
   "cell_type": "code",
   "execution_count": 117,
   "id": "11da81ce",
   "metadata": {},
   "outputs": [
    {
     "data": {
      "text/plain": [
       "{'health': 490, 'mana': 334, 'melee': 550, 'armor': 18.77}"
      ]
     },
     "execution_count": 117,
     "metadata": {},
     "output_type": "execute_result"
    }
   ],
   "source": [
    "# 딕셔너리 만들기\n",
    "# *딕셔너리 = {키1:값1, 키2:값2} : 키-값 쌍(key-value pair)\n",
    "lux = {'health': 490, 'mana': 334, 'melee': 550, 'armor': 18.77}\n",
    "lux\n",
    "\n"
   ]
  },
  {
   "cell_type": "code",
   "execution_count": 118,
   "id": "3d36c53e",
   "metadata": {},
   "outputs": [
    {
     "data": {
      "text/plain": [
       "490"
      ]
     },
     "execution_count": 118,
     "metadata": {},
     "output_type": "execute_result"
    }
   ],
   "source": [
    "lux['health']"
   ]
  },
  {
   "cell_type": "code",
   "execution_count": 121,
   "id": "fd1464e0",
   "metadata": {},
   "outputs": [
    {
     "data": {
      "text/plain": [
       "880"
      ]
     },
     "execution_count": 121,
     "metadata": {},
     "output_type": "execute_result"
    }
   ],
   "source": [
    "# 키가 중복되면 맨뒤에 있는 값을 사용\n",
    "lux = {'health': 490,'health': 880, 'mana': 334, 'melee': 550, 'armor': 18.77}\n",
    "lux['health']\n"
   ]
  },
  {
   "cell_type": "code",
   "execution_count": 123,
   "id": "f47e76a6",
   "metadata": {},
   "outputs": [
    {
     "data": {
      "text/plain": [
       "{'health': 880, 'mana': 334, 'melee': 550, 'armor': 18.77}"
      ]
     },
     "execution_count": 123,
     "metadata": {},
     "output_type": "execute_result"
    }
   ],
   "source": [
    "lux\n",
    "# 중복되는 *맨마지막 값을 가져와서 중복되는 이전 키값은 가져오지 않음"
   ]
  },
  {
   "cell_type": "code",
   "execution_count": 124,
   "id": "962fcc13",
   "metadata": {},
   "outputs": [
    {
     "data": {
      "text/plain": [
       "{100: 'hundred', False: 0, 3.5: [3.5, 3.5]}"
      ]
     },
     "execution_count": 124,
     "metadata": {},
     "output_type": "execute_result"
    }
   ],
   "source": [
    "# 12.1.2 딕셔너리 키의 자료형\n",
    "x = {100: 'hundred', False: 0, 3.5:[3.5, 3.5]}\n",
    "x"
   ]
  },
  {
   "cell_type": "code",
   "execution_count": 2,
   "id": "e4ce5ce5",
   "metadata": {},
   "outputs": [
    {
     "ename": "TypeError",
     "evalue": "unhashable type: 'set'",
     "output_type": "error",
     "traceback": [
      "\u001b[0;31m---------------------------------------------------------------------------\u001b[0m",
      "\u001b[0;31mTypeError\u001b[0m                                 Traceback (most recent call last)",
      "\u001b[0;32m/tmp/ipykernel_47/2825651961.py\u001b[0m in \u001b[0;36m<module>\u001b[0;34m\u001b[0m\n\u001b[0;32m----> 1\u001b[0;31m \u001b[0mx\u001b[0m \u001b[0;34m=\u001b[0m \u001b[0;34m{\u001b[0m\u001b[0;34m{\u001b[0m\u001b[0;36m10\u001b[0m\u001b[0;34m,\u001b[0m \u001b[0;36m20\u001b[0m\u001b[0;34m}\u001b[0m\u001b[0;34m:\u001b[0m \u001b[0;36m100\u001b[0m\u001b[0;34m}\u001b[0m\u001b[0;34m\u001b[0m\u001b[0;34m\u001b[0m\u001b[0m\n\u001b[0m",
      "\u001b[0;31mTypeError\u001b[0m: unhashable type: 'set'"
     ]
    }
   ],
   "source": [
    "x = {{10, 20}: 100}"
   ]
  },
  {
   "cell_type": "code",
   "execution_count": 4,
   "id": "c8ba9ee6",
   "metadata": {},
   "outputs": [
    {
     "ename": "TypeError",
     "evalue": "unhashable type: 'set'",
     "output_type": "error",
     "traceback": [
      "\u001b[0;31m---------------------------------------------------------------------------\u001b[0m",
      "\u001b[0;31mTypeError\u001b[0m                                 Traceback (most recent call last)",
      "\u001b[0;32m/tmp/ipykernel_47/4177395991.py\u001b[0m in \u001b[0;36m<module>\u001b[0;34m\u001b[0m\n\u001b[0;32m----> 1\u001b[0;31m \u001b[0mx\u001b[0m \u001b[0;34m=\u001b[0m \u001b[0;34m{\u001b[0m\u001b[0;34m{\u001b[0m\u001b[0;34m'a'\u001b[0m\u001b[0;34m,\u001b[0m \u001b[0;36m20\u001b[0m\u001b[0;34m}\u001b[0m\u001b[0;34m:\u001b[0m \u001b[0;36m100\u001b[0m\u001b[0;34m}\u001b[0m\u001b[0;34m\u001b[0m\u001b[0;34m\u001b[0m\u001b[0m\n\u001b[0m",
      "\u001b[0;31mTypeError\u001b[0m: unhashable type: 'set'"
     ]
    }
   ],
   "source": [
    "x = {{'a', 20}: 100}"
   ]
  },
  {
   "cell_type": "markdown",
   "id": "25f3700b",
   "metadata": {},
   "source": [
    "## 키에는 리스트와 딕셔너리를 사용할 수 없습니다."
   ]
  },
  {
   "cell_type": "code",
   "execution_count": 8,
   "id": "24e83f67",
   "metadata": {},
   "outputs": [
    {
     "data": {
      "text/plain": [
       "{}"
      ]
     },
     "execution_count": 8,
     "metadata": {},
     "output_type": "execute_result"
    }
   ],
   "source": [
    "#빈 딕셔너리 만들기\n",
    "x = {}\n",
    "x"
   ]
  },
  {
   "cell_type": "code",
   "execution_count": 9,
   "id": "60ec7a58",
   "metadata": {},
   "outputs": [
    {
     "data": {
      "text/plain": [
       "{}"
      ]
     },
     "execution_count": 9,
     "metadata": {},
     "output_type": "execute_result"
    }
   ],
   "source": [
    "#빈 딕셔너리 만들기\n",
    "y = dict()\n",
    "y"
   ]
  },
  {
   "cell_type": "markdown",
   "id": "d6141886",
   "metadata": {},
   "source": [
    "### 12. 1.4 딕셔너리 만들기\n",
    "- 딕셔너리 = dict(키1=값1, 키2=값2)\n",
    "- 딕셔너리 = dict(zip([키1,키2]),[값1,값2]))\n",
    "- 딕셔너리 = dict([(키1, 값1), (키2,값2)])\n",
    "- 딕셔너리 = dict({키1:값1, 키2:값2})\n"
   ]
  },
  {
   "cell_type": "code",
   "execution_count": 12,
   "id": "4715c9ac",
   "metadata": {},
   "outputs": [
    {
     "ename": "SyntaxError",
     "evalue": "expression cannot contain assignment, perhaps you meant \"==\"? (1440509714.py, line 1)",
     "output_type": "error",
     "traceback": [
      "\u001b[0;36m  File \u001b[0;32m\"/tmp/ipykernel_47/1440509714.py\"\u001b[0;36m, line \u001b[0;32m1\u001b[0m\n\u001b[0;31m    lux1 = dict('health'=490, mana=334, melee=550, armor=18.72)\u001b[0m\n\u001b[0m                ^\u001b[0m\n\u001b[0;31mSyntaxError\u001b[0m\u001b[0;31m:\u001b[0m expression cannot contain assignment, perhaps you meant \"==\"?\n"
     ]
    }
   ],
   "source": [
    "lux1 = dict('health'=490, mana=334, melee=550, armor=18.72) # NOTE : dict안에 키에''를 넣게 되면 에러가 나옴\n",
    "lux1"
   ]
  },
  {
   "cell_type": "markdown",
   "id": "8df0be6c",
   "metadata": {},
   "source": [
    "# 딕셔너리 만들기"
   ]
  },
  {
   "cell_type": "code",
   "execution_count": 13,
   "id": "ef1cb348",
   "metadata": {},
   "outputs": [
    {
     "data": {
      "text/plain": [
       "{'health': 490, 'mana': 334, 'melee': 550, 'armor': 18.72}"
      ]
     },
     "execution_count": 13,
     "metadata": {},
     "output_type": "execute_result"
    }
   ],
   "source": [
    "# NOTE : 딕셔너리 만드는 방법 중에서 1번이 제일 푠하고 보기 쉽다.\n",
    "lux1 = dict(health=490, mana=334, melee=550, armor=18.72) # NOTE : dict안에 키에''를 넣게 되면 에러가 나옴\n",
    "lux1    # 키 = 값형식으로 딕셔너리를 만듦"
   ]
  },
  {
   "cell_type": "code",
   "execution_count": 14,
   "id": "faa17b88",
   "metadata": {},
   "outputs": [
    {
     "data": {
      "text/plain": [
       "{'health': 490, 'mana': 334, 'melee': 550, 'armor': 18.72}"
      ]
     },
     "execution_count": 14,
     "metadata": {},
     "output_type": "execute_result"
    }
   ],
   "source": [
    "lux2 = dict(zip(['health', 'mana', 'melee', 'armor'],[490, 334, 550, 18.72])) # zip()함수를 쓰면 묶음형태여서 오히려 편한 것 같다, 리스트형태로 묶는게 포인트\n",
    "lux2   # ZIP 함수로 키 리스트와 값 리스트를 묶음"
   ]
  },
  {
   "cell_type": "code",
   "execution_count": 20,
   "id": "b6b64e07",
   "metadata": {},
   "outputs": [
    {
     "data": {
      "text/plain": [
       "{'health': 490, 'mana': 334, 'melee': 550, 'armor': 18.72}"
      ]
     },
     "execution_count": 20,
     "metadata": {},
     "output_type": "execute_result"
    }
   ],
   "source": [
    "lux3 = dict([('health', 490),('mana', 334), ('melee', 550), ('armor', 18.72)])\n",
    "lux3    # (키, 값) 형식의 튜플로 딕셔너리를 만듦"
   ]
  },
  {
   "cell_type": "code",
   "execution_count": 17,
   "id": "71a1c1df",
   "metadata": {},
   "outputs": [
    {
     "data": {
      "text/plain": [
       "{'health': 490, 'mana': 334, 'melee': 550, 'armor': 18.72}"
      ]
     },
     "execution_count": 17,
     "metadata": {},
     "output_type": "execute_result"
    }
   ],
   "source": [
    "lux4 = dict({'health': 490, 'mana': 334, 'melee': 550, 'armor': 18.72})\n",
    "lux4    # dict 안에서 중괄호로 딕셔너리를 만듦"
   ]
  },
  {
   "cell_type": "markdown",
   "id": "b7ecd05d",
   "metadata": {},
   "source": [
    "## 딕셔너리의 키에 값 할당하기"
   ]
  },
  {
   "cell_type": "code",
   "execution_count": 18,
   "id": "35161703",
   "metadata": {},
   "outputs": [
    {
     "data": {
      "text/plain": [
       "490"
      ]
     },
     "execution_count": 18,
     "metadata": {},
     "output_type": "execute_result"
    }
   ],
   "source": [
    "# 딕셔너리의 키에 접근하고 값 할당하기\n",
    "lux = {'health': 490, 'mana': 334, 'melee': 550, 'armor': 18.72}\n",
    "lux['health']"
   ]
  },
  {
   "cell_type": "code",
   "execution_count": 21,
   "id": "96e99afa",
   "metadata": {},
   "outputs": [
    {
     "data": {
      "text/plain": [
       "18.72"
      ]
     },
     "execution_count": 21,
     "metadata": {},
     "output_type": "execute_result"
    }
   ],
   "source": [
    "lux['armor']"
   ]
  },
  {
   "cell_type": "code",
   "execution_count": 22,
   "id": "a5b8aa79",
   "metadata": {},
   "outputs": [
    {
     "data": {
      "text/plain": [
       "490"
      ]
     },
     "execution_count": 22,
     "metadata": {},
     "output_type": "execute_result"
    }
   ],
   "source": [
    "lux = {'health':490, 'mana': 334, 'melee': 550, 'armor': 18.72}\n",
    "lux['health'] "
   ]
  },
  {
   "cell_type": "code",
   "execution_count": 23,
   "id": "8d9fb1bc",
   "metadata": {},
   "outputs": [
    {
     "data": {
      "text/plain": [
       "{'health': 2037, 'mana': 1184, 'melee': 550, 'armor': 18.72}"
      ]
     },
     "execution_count": 23,
     "metadata": {},
     "output_type": "execute_result"
    }
   ],
   "source": [
    "lux['health'] = 2037\n",
    "lux['mana'] = 1184\n",
    "lux"
   ]
  },
  {
   "cell_type": "code",
   "execution_count": 27,
   "id": "b208e4e5",
   "metadata": {},
   "outputs": [
    {
     "data": {
      "text/plain": [
       "{'health': 2037,\n",
       " 'mana': 1184,\n",
       " 'melee': 550,\n",
       " 'armor': 18.72,\n",
       " 'mana_regen': 3.28}"
      ]
     },
     "execution_count": 27,
     "metadata": {},
     "output_type": "execute_result"
    }
   ],
   "source": [
    "# 키추가 값 할당\n",
    "lux['mana_regen'] = 3.28\n",
    "lux"
   ]
  },
  {
   "cell_type": "code",
   "execution_count": 28,
   "id": "354b944c",
   "metadata": {},
   "outputs": [
    {
     "ename": "KeyError",
     "evalue": "'attack_speed'",
     "output_type": "error",
     "traceback": [
      "\u001b[0;31m---------------------------------------------------------------------------\u001b[0m",
      "\u001b[0;31mKeyError\u001b[0m                                  Traceback (most recent call last)",
      "\u001b[0;32m/tmp/ipykernel_47/1324113283.py\u001b[0m in \u001b[0;36m<module>\u001b[0;34m\u001b[0m\n\u001b[1;32m      1\u001b[0m \u001b[0mlux\u001b[0m \u001b[0;34m=\u001b[0m \u001b[0;34m{\u001b[0m\u001b[0;34m'health'\u001b[0m\u001b[0;34m:\u001b[0m\u001b[0;36m490\u001b[0m\u001b[0;34m,\u001b[0m \u001b[0;34m'mana'\u001b[0m\u001b[0;34m:\u001b[0m \u001b[0;36m334\u001b[0m\u001b[0;34m,\u001b[0m \u001b[0;34m'melee'\u001b[0m\u001b[0;34m:\u001b[0m \u001b[0;36m550\u001b[0m\u001b[0;34m,\u001b[0m \u001b[0;34m'armor'\u001b[0m\u001b[0;34m:\u001b[0m \u001b[0;36m18.72\u001b[0m\u001b[0;34m}\u001b[0m\u001b[0;34m\u001b[0m\u001b[0;34m\u001b[0m\u001b[0m\n\u001b[0;32m----> 2\u001b[0;31m \u001b[0mlux\u001b[0m\u001b[0;34m[\u001b[0m\u001b[0;34m'attack_speed'\u001b[0m\u001b[0;34m]\u001b[0m\u001b[0;34m\u001b[0m\u001b[0;34m\u001b[0m\u001b[0m\n\u001b[0m",
      "\u001b[0;31mKeyError\u001b[0m: 'attack_speed'"
     ]
    }
   ],
   "source": [
    "# NOTE : 키 에러 없는 키를 불러오기 때문에 에러가 남\n",
    "lux = {'health':490, 'mana': 334, 'melee': 550, 'armor': 18.72}\n",
    "lux['attack_speed']"
   ]
  },
  {
   "cell_type": "code",
   "execution_count": 29,
   "id": "7ec157ac",
   "metadata": {},
   "outputs": [
    {
     "data": {
      "text/plain": [
       "True"
      ]
     },
     "execution_count": 29,
     "metadata": {},
     "output_type": "execute_result"
    }
   ],
   "source": [
    "lux = {'health':490, 'mana': 334, 'melee': 550, 'armor': 18.72}\n",
    "'health' in lux"
   ]
  },
  {
   "cell_type": "code",
   "execution_count": 30,
   "id": "2ed95d0d",
   "metadata": {},
   "outputs": [
    {
     "data": {
      "text/plain": [
       "False"
      ]
     },
     "execution_count": 30,
     "metadata": {},
     "output_type": "execute_result"
    }
   ],
   "source": [
    "'attack_speed' in lux"
   ]
  },
  {
   "cell_type": "code",
   "execution_count": 31,
   "id": "c249ee28",
   "metadata": {},
   "outputs": [
    {
     "data": {
      "text/plain": [
       "True"
      ]
     },
     "execution_count": 31,
     "metadata": {},
     "output_type": "execute_result"
    }
   ],
   "source": [
    "'attack_speed' not in lux"
   ]
  },
  {
   "cell_type": "code",
   "execution_count": 32,
   "id": "08940b15",
   "metadata": {},
   "outputs": [
    {
     "data": {
      "text/plain": [
       "False"
      ]
     },
     "execution_count": 32,
     "metadata": {},
     "output_type": "execute_result"
    }
   ],
   "source": [
    "'health' not in lux"
   ]
  },
  {
   "cell_type": "markdown",
   "id": "141fe2b1",
   "metadata": {},
   "source": [
    "해시\n",
    ">딕셔너리는 해시(Hash) 기법을 이요해서 데이터를 정합니다. 보통 딕셔너리와 같은 키-값 형태으 ㅣ자료형을 해시, 해시맵 해시테이블 등으로 부르기도 합니다."
   ]
  },
  {
   "cell_type": "code",
   "execution_count": 33,
   "id": "327379e8",
   "metadata": {},
   "outputs": [
    {
     "data": {
      "text/plain": [
       "4"
      ]
     },
     "execution_count": 33,
     "metadata": {},
     "output_type": "execute_result"
    }
   ],
   "source": [
    "lux = {'health':490, 'mana': 334, 'melee': 550, 'armor': 18.72}\n",
    "len(lux)"
   ]
  },
  {
   "cell_type": "code",
   "execution_count": 34,
   "id": "f59cff18",
   "metadata": {},
   "outputs": [
    {
     "data": {
      "text/plain": [
       "4"
      ]
     },
     "execution_count": 34,
     "metadata": {},
     "output_type": "execute_result"
    }
   ],
   "source": [
    "len({'health':490, 'mana': 334, 'melee': 550, 'armor': 18.72})"
   ]
  },
  {
   "cell_type": "code",
   "execution_count": 42,
   "id": "ec144183",
   "metadata": {},
   "outputs": [
    {
     "name": "stdout",
     "output_type": "stream",
     "text": [
      "575.6\n",
      "340\n"
     ]
    }
   ],
   "source": [
    "# 12.4 연습문제\n",
    "camille = {'health': 575.6, 'health_regen': 1.7, 'mana': 338.8, 'mana_regen': 1.63, 'melee': 125, 'attack_damage': 60, 'attack_speed': 0.625, 'armor': 26, 'magic_resistance': 32.1, 'movement_speed': 32.1, 'movement_speed': 340}\n",
    "\n",
    "print(camille['health'])\n",
    "print(camille['movement_speed'])"
   ]
  },
  {
   "cell_type": "code",
   "execution_count": 47,
   "id": "e4c904c6",
   "metadata": {},
   "outputs": [
    {
     "name": "stdout",
     "output_type": "stream",
     "text": [
      "'health':575.6, 'health_regen':1.7\n",
      "'health':575.6, 'health_regen':1.7\n"
     ]
    }
   ],
   "source": [
    "x = input().split()\n",
    "a,b = x\n",
    "#print(x) # 출력해보니 양쪽에 \"\"쌍따움표가 붙어졌다.\n",
    "print(a, b)"
   ]
  },
  {
   "cell_type": "code",
   "execution_count": 50,
   "id": "50044c96",
   "metadata": {},
   "outputs": [
    {
     "ename": "SyntaxError",
     "evalue": "invalid syntax (1165318759.py, line 1)",
     "output_type": "error",
     "traceback": [
      "\u001b[0;36m  File \u001b[0;32m\"/tmp/ipykernel_47/1165318759.py\"\u001b[0;36m, line \u001b[0;32m1\u001b[0m\n\u001b[0;31m    a = dict(health: 575.6, health_regen: 1.7, mana: 338.8, mana_regen: 1.63)\u001b[0m\n\u001b[0m                   ^\u001b[0m\n\u001b[0;31mSyntaxError\u001b[0m\u001b[0;31m:\u001b[0m invalid syntax\n"
     ]
    }
   ],
   "source": [
    "a = dict(health:575.6, health_regen: 1.7, mana: 338.8, mana_regen: 1.63) # NOTE : 에러남 : 아니라 = 이다\n",
    "print(a)"
   ]
  },
  {
   "cell_type": "code",
   "execution_count": 51,
   "id": "5afdfb93",
   "metadata": {},
   "outputs": [
    {
     "name": "stdout",
     "output_type": "stream",
     "text": [
      "{'health': 575.6, 'health_regen': 1.7, 'mana': 338.8, 'mana_regen': 1.63}\n"
     ]
    }
   ],
   "source": [
    "a = dict(health= 575.6, health_regen= 1.7, mana= 338.8, mana_regen= 1.63)\n",
    "print(a)"
   ]
  }
 ],
 "metadata": {
  "kernelspec": {
   "display_name": "Python 3 (ipykernel)",
   "language": "python",
   "name": "python3"
  },
  "language_info": {
   "codemirror_mode": {
    "name": "ipython",
    "version": 3
   },
   "file_extension": ".py",
   "mimetype": "text/x-python",
   "name": "python",
   "nbconvert_exporter": "python",
   "pygments_lexer": "ipython3",
   "version": "3.9.7"
  }
 },
 "nbformat": 4,
 "nbformat_minor": 5
}
