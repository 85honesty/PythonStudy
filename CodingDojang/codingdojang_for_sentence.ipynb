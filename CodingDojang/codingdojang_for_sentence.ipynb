{
 "cells": [
  {
   "cell_type": "markdown",
   "id": "9aac1bdf",
   "metadata": {},
   "source": [
    "# 코딩도장 for문 쓰면 hello, world!를 100번 쓰는게 쉬워진다.\n",
    "- ### 마법같은 for문의 세계로 들어가보자"
   ]
  },
  {
   "cell_type": "markdown",
   "id": "1dfc0a2f",
   "metadata": {},
   "source": [
    "for문 hello,world 100번출력"
   ]
  },
  {
   "cell_type": "code",
   "execution_count": 3,
   "id": "be8aedad",
   "metadata": {},
   "outputs": [
    {
     "name": "stdout",
     "output_type": "stream",
     "text": [
      "Hello, world!\n",
      "Hello, world!\n",
      "Hello, world!\n",
      "Hello, world!\n",
      "Hello, world!\n",
      "Hello, world!\n",
      "Hello, world!\n",
      "Hello, world!\n",
      "Hello, world!\n",
      "Hello, world!\n",
      "Hello, world!\n",
      "Hello, world!\n",
      "Hello, world!\n",
      "Hello, world!\n",
      "Hello, world!\n",
      "Hello, world!\n",
      "Hello, world!\n",
      "Hello, world!\n",
      "Hello, world!\n",
      "Hello, world!\n",
      "Hello, world!\n",
      "Hello, world!\n",
      "Hello, world!\n",
      "Hello, world!\n",
      "Hello, world!\n",
      "Hello, world!\n",
      "Hello, world!\n",
      "Hello, world!\n",
      "Hello, world!\n",
      "Hello, world!\n",
      "Hello, world!\n",
      "Hello, world!\n",
      "Hello, world!\n",
      "Hello, world!\n",
      "Hello, world!\n",
      "Hello, world!\n",
      "Hello, world!\n",
      "Hello, world!\n",
      "Hello, world!\n",
      "Hello, world!\n",
      "Hello, world!\n",
      "Hello, world!\n",
      "Hello, world!\n",
      "Hello, world!\n",
      "Hello, world!\n",
      "Hello, world!\n",
      "Hello, world!\n",
      "Hello, world!\n",
      "Hello, world!\n",
      "Hello, world!\n",
      "Hello, world!\n",
      "Hello, world!\n",
      "Hello, world!\n",
      "Hello, world!\n",
      "Hello, world!\n",
      "Hello, world!\n",
      "Hello, world!\n",
      "Hello, world!\n",
      "Hello, world!\n",
      "Hello, world!\n",
      "Hello, world!\n",
      "Hello, world!\n",
      "Hello, world!\n",
      "Hello, world!\n",
      "Hello, world!\n",
      "Hello, world!\n",
      "Hello, world!\n",
      "Hello, world!\n",
      "Hello, world!\n",
      "Hello, world!\n",
      "Hello, world!\n",
      "Hello, world!\n",
      "Hello, world!\n",
      "Hello, world!\n",
      "Hello, world!\n",
      "Hello, world!\n",
      "Hello, world!\n",
      "Hello, world!\n",
      "Hello, world!\n",
      "Hello, world!\n",
      "Hello, world!\n",
      "Hello, world!\n",
      "Hello, world!\n",
      "Hello, world!\n",
      "Hello, world!\n",
      "Hello, world!\n",
      "Hello, world!\n",
      "Hello, world!\n",
      "Hello, world!\n",
      "Hello, world!\n",
      "Hello, world!\n",
      "Hello, world!\n",
      "Hello, world!\n",
      "Hello, world!\n",
      "Hello, world!\n",
      "Hello, world!\n",
      "Hello, world!\n",
      "Hello, world!\n",
      "Hello, world!\n",
      "Hello, world!\n",
      "헬로우 월드 100번 성공\n"
     ]
    }
   ],
   "source": [
    "for i in range(100):\n",
    "    print('Hello, world!')\n",
    "print('헬로우 월드 100번 성공')"
   ]
  },
  {
   "cell_type": "code",
   "execution_count": 10,
   "id": "abfff9d9",
   "metadata": {},
   "outputs": [
    {
     "ename": "SyntaxError",
     "evalue": "invalid syntax (2029182429.py, line 1)",
     "output_type": "error",
     "traceback": [
      "\u001b[0;36m  File \u001b[0;32m\"/tmp/ipykernel_63/2029182429.py\"\u001b[0;36m, line \u001b[0;32m1\u001b[0m\n\u001b[0;31m    n = ['hello, world!',,]\u001b[0m\n\u001b[0m                         ^\u001b[0m\n\u001b[0;31mSyntaxError\u001b[0m\u001b[0;31m:\u001b[0m invalid syntax\n"
     ]
    }
   ],
   "source": [
    "# 가로로 출력하고 싶어서 보고 하는데도 뭔가 안된다.\n",
    "n = ['hello, world!',,]\n",
    "for i in range(n[i]):\n",
    "    print (n[i] , end = ' ')\n",
    "    n = n + 1"
   ]
  },
  {
   "cell_type": "markdown",
   "id": "fdc25fec",
   "metadata": {},
   "source": [
    "16. 1.1 반복문에서 변수의 변화 알아보기"
   ]
  },
  {
   "cell_type": "code",
   "execution_count": 11,
   "id": "03b10419",
   "metadata": {},
   "outputs": [
    {
     "name": "stdout",
     "output_type": "stream",
     "text": [
      "Hello, world! 0\n",
      "Hello, world! 1\n",
      "Hello, world! 2\n",
      "Hello, world! 3\n",
      "Hello, world! 4\n",
      "Hello, world! 5\n",
      "Hello, world! 6\n",
      "Hello, world! 7\n",
      "Hello, world! 8\n",
      "Hello, world! 9\n",
      "Hello, world! 10\n",
      "Hello, world! 11\n",
      "Hello, world! 12\n",
      "Hello, world! 13\n",
      "Hello, world! 14\n",
      "Hello, world! 15\n",
      "Hello, world! 16\n",
      "Hello, world! 17\n",
      "Hello, world! 18\n",
      "Hello, world! 19\n",
      "Hello, world! 20\n",
      "Hello, world! 21\n",
      "Hello, world! 22\n",
      "Hello, world! 23\n",
      "Hello, world! 24\n",
      "Hello, world! 25\n",
      "Hello, world! 26\n",
      "Hello, world! 27\n",
      "Hello, world! 28\n",
      "Hello, world! 29\n",
      "Hello, world! 30\n",
      "Hello, world! 31\n",
      "Hello, world! 32\n",
      "Hello, world! 33\n",
      "Hello, world! 34\n",
      "Hello, world! 35\n",
      "Hello, world! 36\n",
      "Hello, world! 37\n",
      "Hello, world! 38\n",
      "Hello, world! 39\n",
      "Hello, world! 40\n",
      "Hello, world! 41\n",
      "Hello, world! 42\n",
      "Hello, world! 43\n",
      "Hello, world! 44\n",
      "Hello, world! 45\n",
      "Hello, world! 46\n",
      "Hello, world! 47\n",
      "Hello, world! 48\n",
      "Hello, world! 49\n",
      "Hello, world! 50\n",
      "Hello, world! 51\n",
      "Hello, world! 52\n",
      "Hello, world! 53\n",
      "Hello, world! 54\n",
      "Hello, world! 55\n",
      "Hello, world! 56\n",
      "Hello, world! 57\n",
      "Hello, world! 58\n",
      "Hello, world! 59\n",
      "Hello, world! 60\n",
      "Hello, world! 61\n",
      "Hello, world! 62\n",
      "Hello, world! 63\n",
      "Hello, world! 64\n",
      "Hello, world! 65\n",
      "Hello, world! 66\n",
      "Hello, world! 67\n",
      "Hello, world! 68\n",
      "Hello, world! 69\n",
      "Hello, world! 70\n",
      "Hello, world! 71\n",
      "Hello, world! 72\n",
      "Hello, world! 73\n",
      "Hello, world! 74\n",
      "Hello, world! 75\n",
      "Hello, world! 76\n",
      "Hello, world! 77\n",
      "Hello, world! 78\n",
      "Hello, world! 79\n",
      "Hello, world! 80\n",
      "Hello, world! 81\n",
      "Hello, world! 82\n",
      "Hello, world! 83\n",
      "Hello, world! 84\n",
      "Hello, world! 85\n",
      "Hello, world! 86\n",
      "Hello, world! 87\n",
      "Hello, world! 88\n",
      "Hello, world! 89\n",
      "Hello, world! 90\n",
      "Hello, world! 91\n",
      "Hello, world! 92\n",
      "Hello, world! 93\n",
      "Hello, world! 94\n",
      "Hello, world! 95\n",
      "Hello, world! 96\n",
      "Hello, world! 97\n",
      "Hello, world! 98\n",
      "Hello, world! 99\n"
     ]
    }
   ],
   "source": [
    "for i in range(100):\n",
    "    print('Hello, world!', i)\n",
    "    "
   ]
  },
  {
   "cell_type": "markdown",
   "id": "d03b1a45",
   "metadata": {},
   "source": [
    "반복문의 변수 i\n",
    "> 변수 i를 루프 인덱스라고도 부르며 index의 첫머리 글자를 따서 i를 주로 사용합니다."
   ]
  },
  {
   "cell_type": "code",
   "execution_count": 12,
   "id": "12d3aa8a",
   "metadata": {},
   "outputs": [
    {
     "data": {
      "text/plain": [
       "range(0, 10)"
      ]
     },
     "execution_count": 12,
     "metadata": {},
     "output_type": "execute_result"
    }
   ],
   "source": [
    "# 반복 0, 10\n",
    "range(10)"
   ]
  },
  {
   "cell_type": "code",
   "execution_count": 13,
   "id": "4bd0ddc1",
   "metadata": {},
   "outputs": [
    {
     "data": {
      "text/plain": [
       "[0, 1, 2, 3, 4, 5, 6, 7, 8, 9]"
      ]
     },
     "execution_count": 13,
     "metadata": {},
     "output_type": "execute_result"
    }
   ],
   "source": [
    "# 리스트로 표현 0부터 9까지\n",
    "list(range(10))"
   ]
  },
  {
   "cell_type": "code",
   "execution_count": 15,
   "id": "c423980d",
   "metadata": {},
   "outputs": [
    {
     "name": "stdout",
     "output_type": "stream",
     "text": [
      "Hello, world! 5\n",
      "Hello, world! 6\n",
      "Hello, world! 7\n",
      "Hello, world! 8\n",
      "Hello, world! 9\n",
      "Hello, world! 10\n",
      "Hello, world! 11\n"
     ]
    }
   ],
   "source": [
    "# 반복 범위 정하고 출력\n",
    "for i in range(5,12): # 5번째 부터 11번째까지\n",
    "    print('Hello, world!',i)    "
   ]
  },
  {
   "cell_type": "code",
   "execution_count": 17,
   "id": "69856e9e",
   "metadata": {},
   "outputs": [
    {
     "name": "stdout",
     "output_type": "stream",
     "text": [
      "Hello, world! 0\n",
      "Hello, world! 2\n",
      "Hello, world! 4\n",
      "Hello, world! 6\n",
      "Hello, world! 8\n"
     ]
    }
   ],
   "source": [
    "# 증가폭 사용하기 : 몇씩 증가 range(○,△,□) □씩 증가\n",
    "for i in range(0, 10, 2): # 몇씩 증가 : 증가폭을 조절할 수 있다  ex) 2 : 2씩 증가, 5 : 5씩 증가\n",
    "    print('Hello, world!',i)"
   ]
  },
  {
   "cell_type": "code",
   "execution_count": 19,
   "id": "39b94f50",
   "metadata": {},
   "outputs": [
    {
     "name": "stdout",
     "output_type": "stream",
     "text": [
      "Hello, world! 0\n",
      "Hello, world! 5\n",
      "Hello, world! 10\n",
      "Hello, world! 15\n",
      "Hello, world! 20\n",
      "Hello, world! 25\n",
      "Hello, world! 30\n",
      "Hello, world! 35\n",
      "Hello, world! 40\n",
      "Hello, world! 45\n"
     ]
    }
   ],
   "source": [
    "# 증가폭 사용하기 : 몇씩 증가 range(○,△,□) □씩 증가\n",
    "for i in range(0, 50, 5): # 몇씩 증가 : 증가폭을 조절할 수 있다  ex) 2 : 2씩 증가, 5 : 5씩 증가\n",
    "    print('Hello, world!',i)"
   ]
  },
  {
   "cell_type": "code",
   "execution_count": 20,
   "id": "3a25c5be",
   "metadata": {},
   "outputs": [],
   "source": [
    "# 숫자 감소시키기\n",
    "\n",
    "for i in range(10,0):    # range(10, 0)은 동작하지 않음\n",
    "    print('Hello, world!',i)"
   ]
  },
  {
   "cell_type": "code",
   "execution_count": 22,
   "id": "4d92e663",
   "metadata": {},
   "outputs": [],
   "source": [
    "# 숫자 감소시키기\n",
    "\n",
    "for i in range(100,10):    # range(100, 10)은 동작하지 않음 : 숫자를 변경해도 되지 않음\n",
    "    print('Hello, world!',i)"
   ]
  },
  {
   "cell_type": "code",
   "execution_count": 23,
   "id": "7370f245",
   "metadata": {},
   "outputs": [
    {
     "name": "stdout",
     "output_type": "stream",
     "text": [
      "Hello, world! 10\n",
      "Hello, world! 9\n",
      "Hello, world! 8\n",
      "Hello, world! 7\n",
      "Hello, world! 6\n",
      "Hello, world! 5\n",
      "Hello, world! 4\n",
      "Hello, world! 3\n",
      "Hello, world! 2\n",
      "Hello, world! 1\n"
     ]
    }
   ],
   "source": [
    "# NOTE : range() 기본값이 범위 내에서 1씩 증가 그렇기 때문에 음수를 지정해줘야 하는 것 같다.\n",
    "# (리스트만들기에서)range에 증가폭을 음수로 지정하면 숫자가 감소한다고 했죠?\n",
    "\n",
    "# 숫자 감소시키기\n",
    "\n",
    "for i in range(10, 0, -1):\n",
    "    print('Hello, world!',i)"
   ]
  },
  {
   "cell_type": "code",
   "execution_count": 24,
   "id": "5677aa3c",
   "metadata": {},
   "outputs": [
    {
     "name": "stdout",
     "output_type": "stream",
     "text": [
      "Hello, world! 9\n",
      "Hello, world! 8\n",
      "Hello, world! 7\n",
      "Hello, world! 6\n",
      "Hello, world! 5\n",
      "Hello, world! 4\n",
      "Hello, world! 3\n",
      "Hello, world! 2\n",
      "Hello, world! 1\n",
      "Hello, world! 0\n"
     ]
    }
   ],
   "source": [
    "# for 변수 in reversed(range(횟수))\n",
    "# for 변수 in reversed(range(시작,끝))\n",
    "# for 변수 in reversed(range(시작, 끝, 증가폭))\n",
    "\n",
    "for i in reversed(range(10)): # \n",
    "    print('Hello, world!', i)"
   ]
  },
  {
   "cell_type": "code",
   "execution_count": 32,
   "id": "1ae9db57",
   "metadata": {},
   "outputs": [
    {
     "name": "stdout",
     "output_type": "stream",
     "text": [
      "0123456789"
     ]
    }
   ],
   "source": [
    "# 반복문의 변수를 i변경할 수 있을까?\n",
    "\n",
    "\n",
    "for i in range(10):\n",
    "    print(i, end='')\n",
    "    i = 5 # NOTE : 변화가 없다. 이유는? 변수 i는 반복할때마다 다음 값으로 덮어써지기 때문에 값을 할당해도 변수에 영향을 주지 못합니다."
   ]
  },
  {
   "cell_type": "code",
   "execution_count": 30,
   "id": "2b265733",
   "metadata": {},
   "outputs": [
    {
     "name": "stdout",
     "output_type": "stream",
     "text": [
      "Hello, world! 9 index / Hello, world! 8 index / Hello, world! 7 index / Hello, world! 6 index / Hello, world! 5 index / Hello, world! 4 index / Hello, world! 3 index / Hello, world! 2 index / Hello, world! 1 index / Hello, world! 0 index / "
     ]
    }
   ],
   "source": [
    "# for 변수 in reversed(range(횟수)) \n",
    "# for 변수 in reversed(range(시작,끝))\n",
    "# for 변수 in reversed(range(시작, 끝, 증가폭))\n",
    "\n",
    "# NOTE : 가로로 나오기 성공 / end='' : 끝에 공백을 지워주는 건가?, 끝에 처리를 해주는 것 같은데 어떤 건지 잘 모르겠다.\n",
    "\n",
    "for i in reversed(range(10)): # \n",
    "    print('Hello, world!', i,'index / ', end='')"
   ]
  },
  {
   "cell_type": "code",
   "execution_count": 33,
   "id": "dc1ac6d6",
   "metadata": {},
   "outputs": [
    {
     "name": "stdout",
     "output_type": "stream",
     "text": [
      "0123456789"
     ]
    }
   ],
   "source": [
    "# 반복문의 변수를 i변경할 수 있을까?\n",
    "\n",
    "\n",
    "for i in range(10):\n",
    "    print(i, end='')\n",
    "    i += 2 # NOTE : 변화가 없다. 이유는? 변수 i는 반복할때마다 다음 값으로 덮어써지기 때문에 값을 할당해도 변수에 영향을 주지 못합니다."
   ]
  },
  {
   "cell_type": "code",
   "execution_count": 34,
   "id": "e2409410",
   "metadata": {},
   "outputs": [
    {
     "name": "stdout",
     "output_type": "stream",
     "text": [
      "반복할 횟수를 정하세요 =>> 4\n",
      "Hello, world! 0\n",
      "Hello, world! 1\n",
      "Hello, world! 2\n",
      "Hello, world! 3\n"
     ]
    }
   ],
   "source": [
    "# 입력한 횟수대로 반복하기\n",
    "count = int(input('반복할 횟수를 정하세요 =>> '))\n",
    "\n",
    "for i in range(count):\n",
    "    print('Hello, world!', i)"
   ]
  },
  {
   "cell_type": "code",
   "execution_count": 39,
   "id": "8c0fb135",
   "metadata": {},
   "outputs": [
    {
     "name": "stdout",
     "output_type": "stream",
     "text": [
      "반복할 횟수를 정하세요 =>> 5\n",
      "Hello, world! 0\n",
      "Hello, world! 1\n",
      "Hello, world! 2\n",
      "Hello, world! 3\n",
      "Hello, world! 4\n"
     ]
    }
   ],
   "source": [
    "# 입력한 횟수대로 반복하기\n",
    "count = int(input('반복할 횟수를 정하세요 =>> '))\n",
    "\n",
    "for i in range(count):\n",
    "    print('Hello, world!', i)"
   ]
  },
  {
   "cell_type": "code",
   "execution_count": 40,
   "id": "3da4fec2",
   "metadata": {},
   "outputs": [
    {
     "name": "stdout",
     "output_type": "stream",
     "text": [
      "10\n",
      "20\n",
      "30\n",
      "40\n",
      "50\n"
     ]
    }
   ],
   "source": [
    "# 리스트로 반복하기 \n",
    "a = [10, 20, 30, 40, 50]\n",
    "for i in a:\n",
    "    print(i)"
   ]
  },
  {
   "cell_type": "code",
   "execution_count": 41,
   "id": "efec2ae0",
   "metadata": {},
   "outputs": [
    {
     "name": "stdout",
     "output_type": "stream",
     "text": [
      "('apple', 'orange', 'grape')\n",
      "('apple', 'orange', 'grape')\n",
      "('apple', 'orange', 'grape')\n"
     ]
    }
   ],
   "source": [
    "fruits = ('apple', 'orange', 'grape')\n",
    "for fruit in fruits:\n",
    "    print(fruits) # NOTE : 오타로 인해서 새로운 걸 알게 되었습니다."
   ]
  },
  {
   "cell_type": "code",
   "execution_count": 42,
   "id": "6a41ddb8",
   "metadata": {},
   "outputs": [
    {
     "name": "stdout",
     "output_type": "stream",
     "text": [
      "apple\n",
      "orange\n",
      "grape\n"
     ]
    }
   ],
   "source": [
    "fruits = ('apple', 'orange', 'grape')\n",
    "for fruit in fruits:\n",
    "    print(fruit) # NOTE : 오타로 인해서 새로운 걸 알게 되었습니다."
   ]
  },
  {
   "cell_type": "code",
   "execution_count": 45,
   "id": "d6c1df66",
   "metadata": {},
   "outputs": [
    {
     "name": "stdout",
     "output_type": "stream",
     "text": [
      "P y t h o n "
     ]
    }
   ],
   "source": [
    "for letter in 'Python':\n",
    "    print(letter, end=' ') # 한칸띄기 : 끝난 다음에 어떻게 정하는 건가보네요"
   ]
  },
  {
   "cell_type": "code",
   "execution_count": 46,
   "id": "ad7c1905",
   "metadata": {},
   "outputs": [
    {
     "name": "stdout",
     "output_type": "stream",
     "text": [
      "Python"
     ]
    }
   ],
   "source": [
    "for letter in 'Python':\n",
    "    print(letter, end='') # 한칸띄기 : 끝난 다음에 어떻게 정하는 건가보네요"
   ]
  },
  {
   "cell_type": "code",
   "execution_count": 47,
   "id": "af5aeeac",
   "metadata": {},
   "outputs": [
    {
     "name": "stdout",
     "output_type": "stream",
     "text": [
      "P\n",
      "y\n",
      "t\n",
      "h\n",
      "o\n",
      "n\n"
     ]
    }
   ],
   "source": [
    "for letter in 'Python':\n",
    "    print(letter) # 기존대로 출력해보기"
   ]
  },
  {
   "cell_type": "code",
   "execution_count": 51,
   "id": "b1348dc0",
   "metadata": {},
   "outputs": [
    {
     "name": "stdout",
     "output_type": "stream",
     "text": [
      "P / y / t / h / o / n / "
     ]
    }
   ],
   "source": [
    "for letter in 'Python':\n",
    "    print(letter, end=' / ') # 원하는 문자 중간에 넣기"
   ]
  },
  {
   "cell_type": "code",
   "execution_count": 55,
   "id": "1bbb17a1",
   "metadata": {},
   "outputs": [
    {
     "name": "stdout",
     "output_type": "stream",
     "text": [
      "P_y_t_h_o_n_"
     ]
    }
   ],
   "source": [
    "# NOTE : 맨 마지막 끝에 반복되는 걸 없에고 싶다. / , _ 어떻게 없애는 방법이 없을까?\n",
    "for letter in 'Python':\n",
    "    print(letter, end='_') # 원하는 문자 중간에 넣기"
   ]
  },
  {
   "cell_type": "code",
   "execution_count": 56,
   "id": "84454336",
   "metadata": {},
   "outputs": [
    {
     "name": "stdout",
     "output_type": "stream",
     "text": [
      "n o h t y P "
     ]
    }
   ],
   "source": [
    "# reversed를 사용해서 문자를 거꾸로 출력할 수 있다.\n",
    "for letter in reversed('Python'):\n",
    "    print(letter, end=' ')"
   ]
  },
  {
   "cell_type": "markdown",
   "id": "4e218aeb",
   "metadata": {},
   "source": [
    "# 오늘 다양한 아이템을 장착했다.\n",
    "1. for문의 반복출력\n",
    "2. 변수 i는 index를 뜻하는 거다\n",
    "3. 시작숫자와 끝나는 숫자 정하기 \n",
    "4. 증가폭 설정\n",
    "5. 숫자감소\n",
    "6. 거꾸로 출력\n",
    "7. end=''사용법\n",
    "8. 리스트\n",
    "9. 튜플\n",
    "10. 문자 한칸띄우기\n",
    "11. 문자 한칸띄우고 거꾸로출력"
   ]
  }
 ],
 "metadata": {
  "kernelspec": {
   "display_name": "Python 3 (ipykernel)",
   "language": "python",
   "name": "python3"
  },
  "language_info": {
   "codemirror_mode": {
    "name": "ipython",
    "version": 3
   },
   "file_extension": ".py",
   "mimetype": "text/x-python",
   "name": "python",
   "nbconvert_exporter": "python",
   "pygments_lexer": "ipython3",
   "version": "3.9.7"
  }
 },
 "nbformat": 4,
 "nbformat_minor": 5
}
