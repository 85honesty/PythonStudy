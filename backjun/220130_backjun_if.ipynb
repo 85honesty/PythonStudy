{
 "cells": [
  {
   "cell_type": "markdown",
   "id": "ded1ecc9",
   "metadata": {},
   "source": [
    "# 변수에 값 할당을 if,else로 축약하기"
   ]
  },
  {
   "cell_type": "code",
   "execution_count": 2,
   "id": "f6538dd9",
   "metadata": {},
   "outputs": [
    {
     "name": "stdout",
     "output_type": "stream",
     "text": [
      "0\n"
     ]
    }
   ],
   "source": [
    "x = 5\n",
    "if x == 10:\n",
    "    y = x\n",
    "else:\n",
    "    y = 0\n",
    "print(y)"
   ]
  },
  {
   "cell_type": "markdown",
   "id": "ec314ed7",
   "metadata": {},
   "source": [
    "### 이렇게 if, else에서 변수에 값을 할당할 때는 변수 = 값 if 조건문 else 값 형식으로 축약할 수 있으며 이런 문법을 조건부 표현식(conditonal expression)이라고 부릅니다."
   ]
  },
  {
   "cell_type": "code",
   "execution_count": 3,
   "id": "0b80daf3",
   "metadata": {},
   "outputs": [
    {
     "name": "stdout",
     "output_type": "stream",
     "text": [
      "0\n"
     ]
    }
   ],
   "source": [
    "x = 5\n",
    "y = x if x == 10 else 0\n",
    "print(y)"
   ]
  },
  {
   "cell_type": "markdown",
   "id": "bbe9984f",
   "metadata": {},
   "source": [
    "- ### 보통 조건부 표현식은 람다 표현식에서 자주 사용합니다. 활용 방법은 32.2람다 표현식과 map, fiter, reduce 함수 활용하기 참조"
   ]
  },
  {
   "cell_type": "code",
   "execution_count": 4,
   "id": "41a30e0b",
   "metadata": {},
   "outputs": [
    {
     "name": "stdout",
     "output_type": "stream",
     "text": [
      "10\n"
     ]
    }
   ],
   "source": [
    "x = 5\n",
    "y = x if x == 20 else 10\n",
    "print(y)"
   ]
  },
  {
   "cell_type": "markdown",
   "id": "0badb731",
   "metadata": {},
   "source": [
    "- NOTE : 이렇게 쓸 수 있구나 람다식 표현을 배움,이제 이해가 됨\n",
    "\n",
    "### 14.3.1  if 조건문에 숫자 지정하기"
   ]
  },
  {
   "cell_type": "code",
   "execution_count": 5,
   "id": "e46efd75",
   "metadata": {},
   "outputs": [
    {
     "name": "stdout",
     "output_type": "stream",
     "text": [
      "거짓\n",
      "참\n",
      "참\n",
      "참\n",
      "참\n"
     ]
    }
   ],
   "source": [
    "if 0:\n",
    "    print('참')\n",
    "else:\n",
    "    print('거짓') # 0은 거짓\n",
    "\n",
    "if 1:\n",
    "    print('참') # 1은 참\n",
    "else:\n",
    "    print('거짓')\n",
    "    \n",
    "if 0x1f:    # 16진수         \n",
    "    print('참')    # 0x1f는 참\n",
    "else:\n",
    "    print('거짓')\n",
    "    \n",
    "if 0b1000:    # 2진수\n",
    "    print('참')    # 0b1000은 참\n",
    "else:\n",
    "    print('거짓')\n",
    "    \n",
    "if 13.5:    # 실수\n",
    "    print('참')    # 13.5는 참\n",
    "else:\n",
    "    print('거짓')"
   ]
  },
  {
   "cell_type": "markdown",
   "id": "eb965d75",
   "metadata": {},
   "source": [
    "## 14.3.2  if 조건문에 문자열 지정하기"
   ]
  },
  {
   "cell_type": "code",
   "execution_count": 7,
   "id": "83006bba",
   "metadata": {},
   "outputs": [
    {
     "name": "stdout",
     "output_type": "stream",
     "text": [
      "참\n",
      "거짓\n"
     ]
    }
   ],
   "source": [
    "if 'Hello':\n",
    "    print('참')\n",
    "else:\n",
    "    print('거짓')\n",
    "\n",
    "if '':\n",
    "    print('참')\n",
    "else:\n",
    "    print('거짓')"
   ]
  },
  {
   "cell_type": "markdown",
   "id": "5ded222b",
   "metadata": {},
   "source": [
    "- ### 참고 | 0, None, 빈 문자열을 not으로 뒤집으면?"
   ]
  },
  {
   "cell_type": "code",
   "execution_count": 12,
   "id": "e6ebf1e7",
   "metadata": {},
   "outputs": [
    {
     "name": "stdout",
     "output_type": "stream",
     "text": [
      "참\n",
      "참\n",
      "참\n"
     ]
    }
   ],
   "source": [
    "if not 0:\n",
    "    print('참')    # not 0은 참\n",
    " \n",
    "if not None:\n",
    "    print('참')    # None은 참\n",
    " \n",
    "if not '':\n",
    "    print('참')    # not 빈 문자열은 참"
   ]
  },
  {
   "cell_type": "markdown",
   "id": "3b772ecc",
   "metadata": {},
   "source": [
    "- NOTE : 위에 코드는 복사해서 왔고 아래코드는 직접 타이핑을 했는데 if의 색상이 복사한 것은 빨간색, 복사 안 한 것은 그대로 초록색으로 되는 게 신기하네요 / 뭐 때문에 그런 건지 의문입니다."
   ]
  },
  {
   "cell_type": "code",
   "execution_count": 11,
   "id": "1c8321c8",
   "metadata": {},
   "outputs": [
    {
     "name": "stdout",
     "output_type": "stream",
     "text": [
      "참\n",
      "참\n",
      "참\n"
     ]
    }
   ],
   "source": [
    "if not 0:\n",
    "    print('참')\n",
    "\n",
    "if not None:\n",
    "    print('참')\n",
    "\n",
    "if not '':\n",
    "    print('참')"
   ]
  },
  {
   "cell_type": "markdown",
   "id": "e9e3c2e3",
   "metadata": {},
   "source": [
    "## 14.4 조건식을 여러 개 지정하기"
   ]
  },
  {
   "cell_type": "code",
   "execution_count": 13,
   "id": "498cc14a",
   "metadata": {},
   "outputs": [
    {
     "name": "stdout",
     "output_type": "stream",
     "text": [
      "참\n"
     ]
    }
   ],
   "source": [
    "x = 10\n",
    "y = 20\n",
    "\n",
    "if x == 10 and y == 20:\n",
    "    print('참')\n",
    "else:\n",
    "    print('거짓')"
   ]
  },
  {
   "cell_type": "markdown",
   "id": "3e3bcf85",
   "metadata": {},
   "source": [
    "## 14.4.1  중첩 if 조건문과 논리 연산자"
   ]
  },
  {
   "cell_type": "code",
   "execution_count": 14,
   "id": "82b8094b",
   "metadata": {},
   "outputs": [
    {
     "name": "stdout",
     "output_type": "stream",
     "text": [
      "20보다 작은 양수입니다.\n"
     ]
    }
   ],
   "source": [
    "if x > 0:\n",
    "    if x < 20:\n",
    "        print('20보다 작은 양수입니다.')"
   ]
  },
  {
   "cell_type": "code",
   "execution_count": 15,
   "id": "eefe4ce1",
   "metadata": {},
   "outputs": [
    {
     "name": "stdout",
     "output_type": "stream",
     "text": [
      "20보다 작은 양수입니다.\n"
     ]
    }
   ],
   "source": [
    "if x > 0 and x < 20:\n",
    "    print('20보다 작은 양수입니다.')"
   ]
  },
  {
   "cell_type": "code",
   "execution_count": 16,
   "id": "8f7bdae9",
   "metadata": {},
   "outputs": [
    {
     "name": "stdout",
     "output_type": "stream",
     "text": [
      "20보다 작은 양수입니다.\n"
     ]
    }
   ],
   "source": [
    "if 0 < x < 20:\n",
    "    print('20보다 작은 양수입니다.')"
   ]
  },
  {
   "cell_type": "markdown",
   "id": "9194d9f2",
   "metadata": {},
   "source": [
    "## 14.6 연습문제: 합격 여부 판단하기\n",
    "\n",
    "- ### A 기업의 입사 시험은 필기 시험 점수가 80점 이상이면서 코딩 시험을 통과해야 합격이라고 정했습니다(코딩 시험 통과 여부는 True, False로 구분). 다음 소스 코드를 완성하여 '합격', '불합격'이 출력되게 만드세요.\n",
    "\n",
    "- 입사필기 시험합격 : 80점이상"
   ]
  },
  {
   "cell_type": "code",
   "execution_count": 20,
   "id": "621d35ed",
   "metadata": {},
   "outputs": [
    {
     "name": "stdout",
     "output_type": "stream",
     "text": [
      "80\n",
      "80점이상 합격입니다.\n"
     ]
    }
   ],
   "source": [
    "x = int(input()) # 사용자 설정 키값 입력\n",
    "if x >= 80:   # 만약에 x가 80보다 크거나 같으면\n",
    "    print('80점이상 합격입니다.')\n",
    "else:    # 아니면 불합격\n",
    "    print('불합격입니다.')"
   ]
  },
  {
   "cell_type": "code",
   "execution_count": 22,
   "id": "783dc28e",
   "metadata": {},
   "outputs": [
    {
     "name": "stdout",
     "output_type": "stream",
     "text": [
      "불합격\n"
     ]
    }
   ],
   "source": [
    "written_test = 75    # 입사 필기시험 75점 - 합격기준 : 80점 이상\n",
    "coding_test = True    # 코딩테스트 통과\n",
    " \n",
    "if written_test >= 80 and coding_test == True:\n",
    "    print('합격')\n",
    "else:\n",
    "    print('불합격')"
   ]
  },
  {
   "cell_type": "markdown",
   "id": "db468187",
   "metadata": {},
   "source": [
    "## 15.1 elif 사용하기"
   ]
  },
  {
   "cell_type": "code",
   "execution_count": 23,
   "id": "651421c0",
   "metadata": {},
   "outputs": [
    {
     "name": "stdout",
     "output_type": "stream",
     "text": [
      "20입니다.\n"
     ]
    }
   ],
   "source": [
    "x = 20\n",
    "if x == 10:\n",
    "    print('10입니다.')\n",
    "elif x == 20:\n",
    "    print('20입니다.')"
   ]
  },
  {
   "cell_type": "markdown",
   "id": "ff538c5b",
   "metadata": {},
   "source": [
    "### 15.1.1  if, elif, else를 모두 사용하기"
   ]
  },
  {
   "cell_type": "code",
   "execution_count": 27,
   "id": "3c67f315",
   "metadata": {},
   "outputs": [
    {
     "name": "stdout",
     "output_type": "stream",
     "text": [
      "10도 20도 아닙니다.\n"
     ]
    }
   ],
   "source": [
    "x = 30\n",
    "\n",
    "if x == 10:    # x가 10일때\n",
    "    print('10입니다.')\n",
    "elif x == 20:   # x가 2일때\n",
    "    print('20입니다.')\n",
    "else:     # 앞에 조건의 모두 만족하지 않을때\n",
    "    print('10도 20도 아닙니다.')"
   ]
  },
  {
   "cell_type": "markdown",
   "id": "ac8973ea",
   "metadata": {},
   "source": [
    "- FIXME : else 앞에 elif가 오면 이렇게 에러가 표시됩니다."
   ]
  },
  {
   "cell_type": "code",
   "execution_count": 29,
   "id": "28c3cebd",
   "metadata": {},
   "outputs": [
    {
     "ename": "SyntaxError",
     "evalue": "invalid syntax (3568696199.py, line 5)",
     "output_type": "error",
     "traceback": [
      "\u001b[0;36m  File \u001b[0;32m\"/tmp/ipykernel_31/3568696199.py\"\u001b[0;36m, line \u001b[0;32m5\u001b[0m\n\u001b[0;31m    elif x == 20:    # elif 앞에 else가 오면 잘못된 문법\u001b[0m\n\u001b[0m    ^\u001b[0m\n\u001b[0;31mSyntaxError\u001b[0m\u001b[0;31m:\u001b[0m invalid syntax\n"
     ]
    }
   ],
   "source": [
    "if x == 10:\n",
    "    print('10입니다.')\n",
    "else:\n",
    "    print('10도 20도 아닙니다.')\n",
    "elif x == 20:    # elif 앞에 else가 오면 잘못된 문법\n",
    "    print('20입니다.')"
   ]
  },
  {
   "cell_type": "markdown",
   "id": "22711d82",
   "metadata": {},
   "source": [
    "- FIXME : if를 맨 앞에 elif를 중간에 else를 맨 마지막에 작성하면 됩니다."
   ]
  },
  {
   "cell_type": "code",
   "execution_count": 28,
   "id": "8d8ec909",
   "metadata": {},
   "outputs": [
    {
     "name": "stdout",
     "output_type": "stream",
     "text": [
      "10도 20도 아닙니다.\n"
     ]
    }
   ],
   "source": [
    "if x == 10:\n",
    "    print('10입니다.')\n",
    "elif x == 20:    # elif 앞에 else가 오면 잘못된 문법\n",
    "    print('20입니다.')\n",
    "else:\n",
    "    print('10도 20도 아닙니다.')"
   ]
  },
  {
   "cell_type": "markdown",
   "id": "24cb4a09",
   "metadata": {},
   "source": [
    "## 15.1.2  음료수 자판기 만들기"
   ]
  },
  {
   "cell_type": "code",
   "execution_count": 41,
   "id": "945f56f2",
   "metadata": {},
   "outputs": [
    {
     "name": "stdout",
     "output_type": "stream",
     "text": [
      "좋아하는 음료를 선택하세요: 1.콜라 2. 사이다 3. 환타 ==>> 1\n",
      "콜라\n"
     ]
    }
   ],
   "source": [
    "button = int(input('좋아하는 음료를 선택하세요: 1.콜라 2. 사이다 3. 환타 ==>> ')) # add 문구 추가\n",
    "\n",
    "if button == 1:\n",
    "    print('콜라')\n",
    "elif button == 2:\n",
    "    print('사이다')\n",
    "elif button == 3:\n",
    "    print('환타')\n",
    "else:\n",
    "    print('제공하지 않는 메뉴')"
   ]
  },
  {
   "cell_type": "markdown",
   "id": "798ec5be",
   "metadata": {},
   "source": [
    "### 15.3 연습문제: if, elif, else 모두 사용하기\n",
    "\n",
    " - #### 다음 소스 코드를 완성하여 변수 x가 11과 20 사이면 '11 ~ 20', 21과 30 사이면 '21 ~ 30', 아무것도 해당하지 않으면 '아무것도 해당하지 않음'이 출력되게 만드세요.\n",
    " - 11 < x < 20\n",
    " - 21 < x < 30\n",
    " - 아무것도 행당하지 않음"
   ]
  },
  {
   "cell_type": "code",
   "execution_count": 45,
   "id": "53f6b805",
   "metadata": {},
   "outputs": [
    {
     "name": "stdout",
     "output_type": "stream",
     "text": [
      "11\n",
      "아무것도 해당하지 않음\n"
     ]
    }
   ],
   "source": [
    "x = int(input())\n",
    "if 11 < x < 20: # FIXME : =을 넣지 않아서 11, 20을 넣었을때 else구문으로 코드가 진행됨\n",
    "    print('11 ~ 20')\n",
    "elif 21 < x < 30:   # FIXME : =을 넣지 않아서 21, 30을 넣었을때 else구문으로 코드가 진행됨\n",
    "    print('21 ~ 30')\n",
    "else:\n",
    "    print('아무것도 해당하지 않음')"
   ]
  },
  {
   "cell_type": "markdown",
   "id": "0f85b9b5",
   "metadata": {},
   "source": [
    ">TODO : 입력값을 한번만 넣고 또 다시 실행하는 것은 굉장히 비효율적이다\n",
    "그럼 어떻게 해야 될까?\n",
    "우선 내가 원하는 것은 input()함수를 두번 호출하고 싶다\n",
    "그래서 또 해보고 또 해보고 싶다\n",
    "add : 그리고 나서 종료도 있으면 좋을 것 같다."
   ]
  },
  {
   "cell_type": "code",
   "execution_count": 46,
   "id": "9474cd89",
   "metadata": {},
   "outputs": [
    {
     "name": "stdout",
     "output_type": "stream",
     "text": [
      "11\n",
      "11 ~ 20\n"
     ]
    }
   ],
   "source": [
    "# NOTE : =을 안 넣어줘서 = 추가\n",
    "x = int(input())\n",
    "if 11 <= x <= 20:  # add : =를 추가해서 같은 숫자일때도 코드가 진행이 되게 변경\n",
    "    print('11 ~ 20')\n",
    "elif 21 <= x <= 30: # add : =를 추가해서 같은 숫자일때도 코드가 진행이 되게 변경\n",
    "    print('21 ~ 30')\n",
    "else:\n",
    "    print('아무것도 해당하지 않음')"
   ]
  },
  {
   "cell_type": "markdown",
   "id": "625d1377",
   "metadata": {},
   "source": [
    "### NOTE : *오늘은 코딩도장의 웹사이틀 보고 하는 방법을 사용하니까\n",
    "### 좋다는 것을 학습의 도움이 더 되었음을 알 수 있었다.\n",
    "### 특히 코딩을 작성할때 도움이 많이 되었다.\n",
    "\n",
    "- ### 기존에는 코딩도장 책을 보면서 했었는데 시간소요도 크고 코드를 보기 조금 어려움이 있었다. 가독성이 떨어져서 능률이 오르지 않았는데 사이트를 보니 훨씬 도움이 되었다. 당분간은 이 방법을 활용해보려고 한다."
   ]
  },
  {
   "cell_type": "markdown",
   "id": "e4c2c023",
   "metadata": {},
   "source": [
    "### 핵심정리"
   ]
  },
  {
   "cell_type": "code",
   "execution_count": null,
   "id": "7ca00055",
   "metadata": {},
   "outputs": [],
   "source": [
    "# 특정 조건일 때 코드를 실행하기\n",
    "if 조건식:\n",
    "    코드    # 조건식을 만족할 때 코드 실행"
   ]
  },
  {
   "cell_type": "code",
   "execution_count": null,
   "id": "ef7a38f7",
   "metadata": {},
   "outputs": [],
   "source": [
    "# 두 방향으로 분기하기\n",
    "if 조건식:\n",
    "    코드1    # 조건식을 만족할 때 코드 실행\n",
    "else:\n",
    "    코드2    # 조건식을 만족하지 않을 때 코드 실행"
   ]
  },
  {
   "cell_type": "code",
   "execution_count": null,
   "id": "7387a373",
   "metadata": {},
   "outputs": [],
   "source": [
    "# 여러 방향으로 분기하기\n",
    "if 조건식1:\n",
    "    코드1    # 조건식1을 만족할 때 코드 실행\n",
    "elif 조건식2:\n",
    "    코드2    # 조건식2을 만족할 때 코드 실행\n",
    "elif 조건식3:\n",
    "    코드3    # 조건식3을 만족할 때 코드 실행\n",
    "else:\n",
    "    코드4    # 어떤 조건도 만족하지 않을 때 코드 실행"
   ]
  },
  {
   "cell_type": "code",
   "execution_count": null,
   "id": "990e9b62",
   "metadata": {},
   "outputs": [],
   "source": [
    "# 조건식과 == 연산자\n",
    "\n",
    "# 조건식을 작성할 때 == 연산자 대신 = 연산자를 사용하는 실수를 하지 않도록 주의합니다.\n",
    "if x == 1:    # 올바른 조건식\n",
    "    print(x)\n",
    " \n",
    "if x = 1:     # 잘못된 조건식\n",
    "    print(x)"
   ]
  },
  {
   "cell_type": "markdown",
   "id": "a3216075",
   "metadata": {},
   "source": [
    "# if문, elif문, else문 을 마치고\n",
    "\n",
    "## TODO : 우선 코딩도장의 구문을 익혀보는 시간이였다. 이제 if문에 대한 문제풀이를 해보고 문제풀이를 해보고 나서 for문을 익혀보기로 하자"
   ]
  },
  {
   "cell_type": "markdown",
   "id": "d8509b19",
   "metadata": {},
   "source": [
    "# 문제\n",
    "### 흔한 수학 문제 중 하나는 주어진 점이 어느 사분면에 속하는지 알아내는 것이다. 사분면은 아래 그림처럼 1부터 4까지 번호를 갖는다. \"Quadrant n\"은 \"제n사분면\"이라는 뜻이다.\n",
    "\n",
    "![사분면 고르기](https://onlinejudgeimages.s3-ap-northeast-1.amazonaws.com/problem/14681/1.png)\n",
    "\n",
    "> 자꾸 사진 업로드가 안되었는데 성공함\n",
    "\n",
    "### 예를 들어, 좌표가 (12, 5)인 점 A는 x좌표와 y좌표가 모두 양수이므로 제1사분면에 속한다. 점 B는 x좌표가 음수이고 y좌표가 양수이므로 제2사분면에 속한다.\n",
    "\n",
    "#### 점의 좌표를 입력받아 그 점이 어느 사분면에 속하는지 알아내는 프로그램을 작성하시오. 단, x좌표와 y좌표는 모두 양수나 음수라고 가정한다.\n",
    "\n",
    "- 점의 좌표를 입력받아 그 점이 어느 사분면에 속하는지 알아내는 프로그램\n",
    "- x좌표와 y좌표는 모두 양수나 음수라고 가정한다.\n",
    "- x >= 1 and y >= 1 # 1사분면"
   ]
  },
  {
   "cell_type": "code",
   "execution_count": 12,
   "id": "40035dd6",
   "metadata": {},
   "outputs": [
    {
     "name": "stdout",
     "output_type": "stream",
     "text": [
      "90\n",
      "100\n",
      "90 100\n"
     ]
    }
   ],
   "source": [
    "x = int(input())\n",
    "y = int(input())\n",
    "\n",
    "print(x,y)"
   ]
  },
  {
   "cell_type": "markdown",
   "id": "49d19837",
   "metadata": {},
   "source": [
    "문제\n",
    "연도가 주어졌을 때, 윤년이면 1, 아니면 0을 출력하는 프로그램을 작성하시오.\n",
    "\n",
    "윤년은 연도가 4의 배수이면서, 100의 배수가 아닐 때 또는 400의 배수일 때이다.\n",
    "\n",
    "#중첩if문으로 풀수있다.\n",
    "\n",
    "예를 들어, 2012년은 4의 배수이면서 100의 배수가 아니라서 윤년이다. # 4의 배수란 뜻\n",
    "1900년은 100의 배수이고 400의 배수는 아니기 때문에 윤년이 아니다. # 100의 배수란 뜻\n",
    "하지만, 2000년은 400의 배수이기 때문에 윤년이다. # 400의 배수란 뜻\n",
    "\n",
    "입력\n",
    "첫째 줄에 연도가 주어진다. 연도는 1보다 크거나 같고, 4000보다 작거나 같은 자연수이다.\n",
    "\n",
    "- 윤년은 1, 아니면 0\n",
    "- 윤년은 4의 배수 and 100의 배수가 아닐때 or 400의 배수일때\n",
    "- 윤년은 연도가 4의 배수 and 100의 배수가 아닐때는 400의 배수\n",
    "- EX) 2012 = 4의 배수 and \n",
    "\n",
    "- yun = 1, yun =! 0\n",
    "- x % 4 == 0 and x % 100 =! 0 or x % 400 == 0\n",
    "- yun = 2012 = x % 4 ==0 and x % 100 =! 0"
   ]
  },
  {
   "cell_type": "code",
   "execution_count": 39,
   "id": "1042eb74",
   "metadata": {},
   "outputs": [
    {
     "name": "stdout",
     "output_type": "stream",
     "text": [
      "2012\n",
      "조건해당 자연수\n"
     ]
    }
   ],
   "source": [
    "# FIXME : if문안에 넣어야 하는데 if문 밖에 넣어서 초기 코드에서 다 실행됨 - 치명적 오류!\n",
    "\n",
    "x = int(input()) # 사용자 입력\n",
    "\n",
    "if 0 <= x <= 4000: # 아래 조건문 형태가 잘 못 됨 : 이 코드에 다 실행됨\n",
    "    print('조건해당 자연수')\n",
    "elif x % 4 == 0 and x % 100 != 0:\n",
    "    print('1')    \n",
    "else:\n",
    "    print('0')"
   ]
  },
  {
   "cell_type": "code",
   "execution_count": 45,
   "id": "a229373a",
   "metadata": {},
   "outputs": [
    {
     "name": "stdout",
     "output_type": "stream",
     "text": [
      "2021\n",
      "2\n"
     ]
    }
   ],
   "source": [
    "x = int(input())\n",
    "\n",
    "if x % 100 == 0:\n",
    "    print('윤년입니다.')\n",
    "    if x % 400 == 0:\n",
    "        print('윤년입니다.')\n",
    "    else:\n",
    "        print('윤년이 아닙니다.')\n",
    "else:\n",
    "    print('2')"
   ]
  },
  {
   "cell_type": "markdown",
   "id": "284aba74",
   "metadata": {},
   "source": [
    "    이렇게도 해보고 저렇게도 해보고 윤년 자체가 감이 안왔다.\n",
    "    그래서 따라 해보기로 했다.\n",
    "    타이핑은 정답이다."
   ]
  },
  {
   "cell_type": "code",
   "execution_count": 47,
   "id": "6275c725",
   "metadata": {},
   "outputs": [
    {
     "name": "stdout",
     "output_type": "stream",
     "text": [
      "year =>> 2000\n",
      "This year is a leap year\n"
     ]
    }
   ],
   "source": [
    "# 따라해보기\n",
    "year = int(input('year =>> ')) # 사용자 입력값\n",
    "x = year    # x으로 치환하여 사용하기 편하게 만들었다.\n",
    "if x % 4 == 0: # 4의 배수\n",
    "    if x % 100 == 0: # 100의 배수\n",
    "        if x % 400 == 0: # 400의 배수\n",
    "            print('This year is a leap year') # 윤년의 해당 됨\n",
    "        else:\n",
    "            print('This year is not a leap year') #유년의 해당 안됨\n",
    "    else:\n",
    "        print('This year is a leap year') # 윤년의 해당 됨\n",
    "else:\n",
    "    print('This year is not a leap year') #유년의 해당 안됨"
   ]
  },
  {
   "cell_type": "markdown",
   "id": "1b7322b3",
   "metadata": {},
   "source": [
    "- 따라해보기 요번에는 조건을 알았으니깐 한번 한문장으로 만들어 보겠습니다."
   ]
  },
  {
   "cell_type": "code",
   "execution_count": 53,
   "id": "6bca504d",
   "metadata": {},
   "outputs": [
    {
     "name": "stdout",
     "output_type": "stream",
     "text": [
      "year =>> 1900\n",
      "This year is a leap year\n"
     ]
    }
   ],
   "source": [
    "# FIXME : 생각의 오류가 났다 - 너무 이 문제만 보다 보니 생각의 늪에 빠졌다. 그래서 조건을 IF문에 다 넣어 버렸다. 치명적 오류!\n",
    "year = int(input('year =>> ')) # 사용자 입력값\n",
    "x = year    # x으로 치환하여 사용하기 편하게 만들었다.\n",
    "\n",
    "if x % 4 == 0 and x % 100 != 0 or x % 100 == 0 and x % 400 != 0 or x % 400 == 0: # 조건을 다 넣었다. 그래서 잘못 된 결과가 나옴/다 유년이라고 조건을 줌\n",
    "    print('This year is a leap year')\n",
    "else:\n",
    "    print('This year is not a leap year') "
   ]
  },
  {
   "cell_type": "code",
   "execution_count": 57,
   "id": "d7449cfc",
   "metadata": {},
   "outputs": [
    {
     "name": "stdout",
     "output_type": "stream",
     "text": [
      "year =>> 2000\n",
      "This year is a leap year\n"
     ]
    }
   ],
   "source": [
    "# NOTE : 결국 성공했다. 다른 분이 한 걸 봤는데 한줄로 하던데 안되길래 elif를 사용해서 해봤다. 된다는 게 신기하다/역시 공을 들여야 해! 잠깐 화장실에 들어가서 생각해봤다. 도자기도 빚어본 사람이 잘한다는 것을 코딩도 해본사람이 잘한다 그 사실을 너무 절실하게 느꼈다. 너무 욕심이였다. 많이 안해보고 잘하려고 했던 것이\n",
    "# 참조 - https://www.youtube.com/watch?v=bDg4-6_QRfA\n",
    "\n",
    "year = int(input('year =>> ')) # 사용자 입력값\n",
    "x = year    # x으로 치환하여 사용하기 편하게 만들었다.\n",
    "\n",
    "if x % 4 == 0 and x % 100 != 0 or x % 400 == 0: # 윤년인 조건 4의배수이고 100의 배수는 아니고 400의 배수인 조건\n",
    "    print('This year is a leap year')\n",
    "elif x % 100 == 0 and x % 400 != 0: # add 윤년이 아닌 조건 추가 : 100의 배수이고 400의 배수가 아닌 조건\n",
    "    print('This year is not a leap year') "
   ]
  },
  {
   "cell_type": "markdown",
   "id": "d76fb9dc",
   "metadata": {},
   "source": [
    "백준 - if문 4.사분면 고르기 # 해결"
   ]
  },
  {
   "cell_type": "code",
   "execution_count": 7,
   "id": "b36d6e35",
   "metadata": {},
   "outputs": [
    {
     "name": "stdout",
     "output_type": "stream",
     "text": [
      "-7\n",
      "7\n",
      "2사분면\n",
      "n사분면 성공\n"
     ]
    }
   ],
   "source": [
    "x = int(input()) # x에 할당할 입력값을 사용자가 입력\n",
    "y = int(input()) # y에 할당할 입력값을 사용자가 입력\n",
    "\n",
    "if x >= 1 and y >= 1: # x는 1보다 작거나 같고 y는 1보다 크거나 같으면\n",
    "    print('1사분면')\n",
    "elif x <= -1 and y >= 1: # x는 -1보다 작거나 같고 y는 1보다 크거나 같으면\n",
    "    print('2사분면')\n",
    "elif x <= -1 and y <= -1: # x는 -1보다 작거나 같고 y는 -1보다 작거나 같으면\n",
    "    print('3사분면')\n",
    "elif x >= 1 and y <= -1: # x는 1보다 작거나 같고 y는 -1보다 작거나 같으면\n",
    "    print('4사분면') \n",
    "print('n사분면 성공')"
   ]
  },
  {
   "cell_type": "markdown",
   "id": "591cf8ce",
   "metadata": {},
   "source": [
    "\n",
    "백준 - 문제5 # 미해결\n",
    "\n",
    "상근이는 매일 아침 알람을 듣고 일어난다. 알람을 듣고 바로 일어나면 다행이겠지만, 항상 조금만 더 자려는 마음 때문에 매일 학교를 지각하고 있다.\n",
    "\n",
    "상근이는 모든 방법을 동원해보았지만, 조금만 더 자려는 마음은 그 어떤 것도 없앨 수가 없었다.\n",
    "\n",
    "이런 상근이를 불쌍하게 보던, 창영이는 자신이 사용하는 방법을 추천해 주었다.\n",
    "\n",
    "바로 \"45분 일찍 알람 설정하기\"이다.\n",
    "\n",
    "이 방법은 단순하다. 원래 설정되어 있는 알람을 45분 앞서는 시간으로 바꾸는 것이다. 어차피 알람 소리를 들으면, 알람을 끄고 조금 더 잘 것이기 때문이다. 이 방법을 사용하면, 매일 아침 더 잤다는 기분을 느낄 수 있고, 학교도 지각하지 않게 된다.\n",
    "\n",
    "현재 상근이가 설정한 알람 시각이 주어졌을 때, 창영이의 방법을 사용한다면, 이를 언제로 고쳐야 하는지 구하는 프로그램을 작성하시오.\n",
    "\n",
    "입력\n",
    "첫째 줄에 두 정수 H와 M이 주어진다. (0 ≤ H ≤ 23, 0 ≤ M ≤ 59) 그리고 이것은 현재 상근이가 설정한 놓은 알람 시간 H시 M분을 의미한다.\n",
    "\n",
    "입력 시간은 24시간 표현을 사용한다. 24시간 표현에서 하루의 시작은 0:0(자정)이고, 끝은 23:59(다음날 자정 1분 전)이다. 시간을 나타낼 때, 불필요한 0은 사용하지 않는다.\n",
    "\n",
    "- 알람시간을 45분 앞당겨라\n",
    "- 시간 H :  0 ≤ H ≤ 23\n",
    "- 분 M : 0 ≤ M ≤ 59"
   ]
  },
  {
   "cell_type": "code",
   "execution_count": 9,
   "id": "839a7753",
   "metadata": {},
   "outputs": [
    {
     "name": "stdout",
     "output_type": "stream",
     "text": [
      "20\n",
      "59\n",
      "20 시 14 분\n"
     ]
    }
   ],
   "source": [
    "# 우선 시간를 설정해봐라 알람시간을 45분 앞당겨라\n",
    "h = int(input())\n",
    "m = int(input())\n",
    "\n",
    "if 0 <= h <= 23 and 0 <= m <= 59:\n",
    "    print(h,'시',m - 45,'분')    "
   ]
  },
  {
   "cell_type": "code",
   "execution_count": 11,
   "id": "9dad61d4",
   "metadata": {},
   "outputs": [
    {
     "name": "stdout",
     "output_type": "stream",
     "text": [
      "20\n",
      "20\n",
      "20 시 -25 분\n"
     ]
    }
   ],
   "source": [
    "# FIXME : 45분이 앞당겨지면서 45분 보다 적은 값이 들어 갈 경우 -값이 나옴 : 치명적 오류! / 시와 분을 일치 시켜야 함!\n",
    "# 우선 시간를 설정해봐라 알람시간을 45분 앞당겨라\n",
    "h = int(input())\n",
    "m = int(input())\n",
    "\n",
    "if 0 <= h <= 23 and 0 <= m <= 59:\n",
    "    print(h,'시',m - 45,'분')    # 기존 값에 -45로 빼주면 앞당길 수 있으나 45보다 적은 값이 나오면 -음의 값을 같게 되고 계산이 틀려집니다.\n",
    "    if 0 <= h <= 23 and  -59 <= m <= -1: # FIXME : 음의 값을 해결하는 방법을 아직 모르겠다.\n",
    "        print(h,'시', m,'분' ) # NOTE : 분의 음수가 되었을때 시간에서 1시간을 분에 적용해서 60분을 적용해주면 될 것 같은데 어떤게 구현하는지 잘 모르겠다.\n",
    "        "
   ]
  },
  {
   "cell_type": "code",
   "execution_count": 65,
   "id": "ada3ea2c",
   "metadata": {},
   "outputs": [
    {
     "name": "stdout",
     "output_type": "stream",
     "text": [
      "21 25\n",
      "20 40\n"
     ]
    }
   ],
   "source": [
    "# 따라 해보기 - 알람시간을 45분 앞당겨라\n",
    "# 주석처리 해보기 설명은 내가 달아본다\n",
    "# 참조 https://github.com/codingpen-io\n",
    "\n",
    "l = input().split() # split() 함수를 사용자 입력때 쓸 수 있는 지는 처음 알았네요\n",
    "\n",
    "# l = ['0', '10'] # 리스트 값 지정\n",
    "\n",
    "h = int(l[0]) # 0번째 리스트로 받기\n",
    "m = int(l[1]) # 1번째 리스트로 받기\n",
    "\n",
    "# remain minutes # 남는 시간 : - 45분을 했을 경우\n",
    "r = m - 45 # r에 m - 45 할당 : minute - 45m\n",
    "if r >= 0: # 만약에 r이 0보다 크거나 같으면 : 0보다 크거나 같으면 : 0 = 0, 0 < r\n",
    "    m = r # m에 r 할당 :  -45분 된 minute이 입력됨\n",
    "else: # 아니면\n",
    "    h = h-1 # h에 h - 1 할당\n",
    "    if h < 0: #만약에 h가 0보다 작다면 : 음의 값을 가지면\n",
    "        h = 24 + h # h에 24 + h 할당 : 시간이 0이하면 24시간을 더하기\n",
    "    m = 60 + r # m에 60 + r 할당 : 분에는 60을 더하라\n",
    "    # 시간에 -1하면 분에는 60을 더하라\n",
    "print(h, m)"
   ]
  },
  {
   "cell_type": "markdown",
   "id": "289971c1",
   "metadata": {},
   "source": [
    "위에 문제는 제가 직접 해봐야 감을 알 것 같다."
   ]
  },
  {
   "cell_type": "markdown",
   "id": "4d2e555d",
   "metadata": {},
   "source": [
    "- 백준 if문 첫발을 내딛었다\n",
    "- if문 5문제 해봤음\n",
    "\n",
    "> 문제풀기를 많이 해보고 익혀봐야 겠음\n",
    "그래도 손으로 익혀보니깐 많이 친숙해짐"
   ]
  }
 ],
 "metadata": {
  "kernelspec": {
   "display_name": "Python 3 (ipykernel)",
   "language": "python",
   "name": "python3"
  },
  "language_info": {
   "codemirror_mode": {
    "name": "ipython",
    "version": 3
   },
   "file_extension": ".py",
   "mimetype": "text/x-python",
   "name": "python",
   "nbconvert_exporter": "python",
   "pygments_lexer": "ipython3",
   "version": "3.9.7"
  }
 },
 "nbformat": 4,
 "nbformat_minor": 5
}
