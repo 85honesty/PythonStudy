{
 "cells": [
  {
   "cell_type": "code",
   "execution_count": 4,
   "id": "00765f6d",
   "metadata": {},
   "outputs": [
    {
     "name": "stdout",
     "output_type": "stream",
     "text": [
      "49\n",
      "-17\n",
      "25\n",
      "102\n",
      "8\n",
      "62\n",
      "21\n"
     ]
    }
   ],
   "source": [
    "# for문을 풀어보기\n",
    "# 각요소에 10을 곱한 값이 출력\n",
    "# 모든 수에 공백으로 하여 한줄로 출력\n",
    "\n",
    "x = [49, -17, 25, 102, 8, 62, 21]\n",
    "\n",
    "for i in x:\n",
    "    print(i)"
   ]
  },
  {
   "cell_type": "code",
   "execution_count": 6,
   "id": "94142dd9",
   "metadata": {},
   "outputs": [
    {
     "name": "stdout",
     "output_type": "stream",
     "text": [
      "490\n",
      "-170\n",
      "250\n",
      "1020\n",
      "80\n",
      "620\n",
      "210\n"
     ]
    }
   ],
   "source": [
    "# for문을 풀어보기\n",
    "# 각요소에 10을 곱한 값이 출력\n",
    "# 모든 수에 공백으로 하여 한줄로 출력\n",
    "\n",
    "x = [49, -17, 25, 102, 8, 62, 21]\n",
    "\n",
    "for i in x:\n",
    "    print(i * 10) # i에 곱하기 10을 함"
   ]
  },
  {
   "cell_type": "code",
   "execution_count": 10,
   "id": "d5d7b109",
   "metadata": {},
   "outputs": [
    {
     "name": "stdout",
     "output_type": "stream",
     "text": [
      "490 -170 250 1020 80 620 210 "
     ]
    }
   ],
   "source": [
    "# for문을 풀어보기\n",
    "# 각요소에 10을 곱한 값이 출력\n",
    "# 모든 수에 공백으로 하여 한줄로 출력\n",
    "\n",
    "x = [49, -17, 25, 102, 8, 62, 21]\n",
    "\n",
    "for i in x:\n",
    "    print(i * 10 , end=' ') # add : end를 추가하여 i의 값뒤에 공백을 줌\n",
    "                            # add : print(i * 10 , end=',')"
   ]
  },
  {
   "cell_type": "code",
   "execution_count": 13,
   "id": "ceb2fe9f",
   "metadata": {},
   "outputs": [
    {
     "name": "stdout",
     "output_type": "stream",
     "text": [
      "2 * 1 = 2\n",
      "2 * 2 = 4\n",
      "2 * 3 = 6\n",
      "2 * 4 = 8\n",
      "2 * 5 = 10\n",
      "2 * 6 = 12\n",
      "2 * 7 = 14\n",
      "2 * 8 = 16\n",
      "2 * 9 = 18\n"
     ]
    }
   ],
   "source": [
    "# 구구단 출력\n",
    "# 2단 숫자 * 숫자 = 숫자(숫자*숫자)\n",
    "\n",
    "for i in range(1, 10):\n",
    "    print(2,'*',i, '=', (2 * i))"
   ]
  },
  {
   "cell_type": "code",
   "execution_count": 15,
   "id": "9c50ec44",
   "metadata": {},
   "outputs": [
    {
     "name": "stdout",
     "output_type": "stream",
     "text": [
      "7 * 1 = 7\n",
      "7 * 2 = 14\n",
      "7 * 3 = 21\n",
      "7 * 4 = 28\n",
      "7 * 5 = 35\n",
      "7 * 6 = 42\n",
      "7 * 7 = 49\n",
      "7 * 8 = 56\n",
      "7 * 9 = 63\n"
     ]
    }
   ],
   "source": [
    "# 구구단 출력\n",
    "# 2단 숫자 * 숫자 = 숫자(숫자*숫자)\n",
    "j = 7\n",
    "for i in range(1, 10):\n",
    "    print(j,'*',i, '=', (j * i))"
   ]
  },
  {
   "cell_type": "code",
   "execution_count": 16,
   "id": "76b0690a",
   "metadata": {},
   "outputs": [],
   "source": [
    "#코딩도장 for문 완성"
   ]
  },
  {
   "cell_type": "code",
   "execution_count": 19,
   "id": "c582b670",
   "metadata": {},
   "outputs": [
    {
     "name": "stdout",
     "output_type": "stream",
     "text": [
      "원하는 n단을 입력하세요(2~9)==>  7\n",
      "7 * 1 = 7\n",
      "7 * 2 = 14\n",
      "7 * 3 = 21\n",
      "7 * 4 = 28\n",
      "7 * 5 = 35\n",
      "7 * 6 = 42\n",
      "7 * 7 = 49\n",
      "7 * 8 = 56\n",
      "7 * 9 = 63\n"
     ]
    }
   ],
   "source": [
    "# 백준 for문 1 구구단 출력\n",
    "# 2단 숫자 * 숫자 = 숫자(숫자*숫자)\n",
    "\n",
    "n = int(input('원하는 n단을 입력하세요(2~9)==>  '))\n",
    "for i in range(1, 10):\n",
    "    print(n,'*',i, '=', (n * i))"
   ]
  },
  {
   "cell_type": "code",
   "execution_count": 3,
   "id": "f635b02f",
   "metadata": {},
   "outputs": [
    {
     "name": "stdout",
     "output_type": "stream",
     "text": [
      "7\n",
      "8\n",
      "7 + 8 = 15\n"
     ]
    }
   ],
   "source": [
    "#백준 for문 2. 두 정수 A와B를 입력받은 다음, A+B를 출력하는 프로그램\n",
    "a = int(input())\n",
    "b = int(input())\n",
    "\n",
    "# for i in range()\n",
    "print(a,'+',b, '=', a+b)"
   ]
  },
  {
   "cell_type": "code",
   "execution_count": 4,
   "id": "fc9e9713",
   "metadata": {},
   "outputs": [
    {
     "name": "stdout",
     "output_type": "stream",
     "text": [
      "Requirement already satisfied: pep8 in /opt/conda/lib/python3.9/site-packages (1.7.1)\n",
      "\u001b[33mWARNING: Running pip as the 'root' user can result in broken permissions and conflicting behaviour with the system package manager. It is recommended to use a virtual environment instead: https://pip.pypa.io/warnings/venv\u001b[0m\n",
      "Note: you may need to restart the kernel to use updated packages.\n"
     ]
    }
   ],
   "source": [
    "pip install pep8"
   ]
  },
  {
   "cell_type": "code",
   "execution_count": 6,
   "id": "d9419f2e",
   "metadata": {},
   "outputs": [
    {
     "name": "stdout",
     "output_type": "stream",
     "text": [
      "8\n",
      "6\n",
      "14\n"
     ]
    }
   ],
   "source": [
    "# 두 정수 a와 b를 입력받음\n",
    "a = int(input())\n",
    "b = int(input())\n",
    "# a+b를 출력하는 프로그램\n",
    "print(a+b)"
   ]
  },
  {
   "cell_type": "code",
   "execution_count": 10,
   "id": "4182a557",
   "metadata": {},
   "outputs": [
    {
     "name": "stdout",
     "output_type": "stream",
     "text": [
      "8\n",
      "5\n",
      "10\n"
     ]
    }
   ],
   "source": [
    "# 두 정수 a와 b를 입력받음\n",
    "a = int(input())\n",
    "b = int(input())\n",
    "# a+b를 출력하는 프로그램\n",
    "print(a+b-3)"
   ]
  },
  {
   "cell_type": "code",
   "execution_count": 18,
   "id": "4c572379",
   "metadata": {},
   "outputs": [
    {
     "name": "stdout",
     "output_type": "stream",
     "text": [
      "8\n",
      "8\n",
      "16\n"
     ]
    }
   ],
   "source": [
    "a = int(input())\n",
    "b = int(input())\n",
    "\n",
    "if 0 < a and b < 10:\n",
    "    print(a+b-3)"
   ]
  },
  {
   "cell_type": "code",
   "execution_count": 19,
   "id": "9bb6c2fd",
   "metadata": {},
   "outputs": [
    {
     "name": "stdout",
     "output_type": "stream",
     "text": [
      "8\n",
      "8\n",
      "13\n"
     ]
    }
   ],
   "source": [
    "# 10950번 for문? # 10분 초과\n",
    "a = int(input())\n",
    "b = int(input())\n",
    "\n",
    "if 0 < a and b < 10:\n",
    "    print(a+b-3)"
   ]
  },
  {
   "cell_type": "code",
   "execution_count": null,
   "id": "77e7f579",
   "metadata": {},
   "outputs": [],
   "source": [
    "# 10950번 for문? 해답?"
   ]
  },
  {
   "cell_type": "code",
   "execution_count": 24,
   "id": "aaf4a76a",
   "metadata": {},
   "outputs": [
    {
     "name": "stdout",
     "output_type": "stream",
     "text": [
      "5\n",
      "10\n"
     ]
    }
   ],
   "source": [
    "# 백준 8393번 / 10분초과\n",
    "# NOTE : n값 받기 / 1부터 n까지 합을 구하는 프로그램\n",
    "\n",
    "# n값 받기\n",
    "n = int(input())\n",
    "\n",
    "# 1부터 n까지 합을 구하는 프로그램\n",
    "if 1 <= n <= 10000: # 1부터 10000까지의 자연수\n",
    "    print(n+n)    # FIXME : n까지 코드를 모르겠다./ IDEA : count를 쓰면 될 것 같다 - count 쓰는 방법 확인\n",
    "    \n",
    "else:\n",
    "    pass # 조건이 추가되면 사용 - 현재는 다른 조건이 없음"
   ]
  },
  {
   "cell_type": "code",
   "execution_count": 27,
   "id": "3c69765e",
   "metadata": {},
   "outputs": [],
   "source": [
    "# 백준 8393번 해답?"
   ]
  },
  {
   "cell_type": "markdown",
   "id": "235dc606",
   "metadata": {},
   "source": [
    "# 백준 15552번\n",
    "# 빠른 a + b\n",
    "# Python을 사용하고 있다면, input 대신 sys.stdin.readline을 사용할 수 있다.\n",
    "# 단, 이때는 맨 끝의 개행문자까지 같이 입력받기 때문에 문자열을 저장하고 싶을 경우\n",
    "# .rstrip()을 추가로 해 주는 것이 좋다.\n",
    "\n",
    "# 입력\n",
    "# 첫 줄에 테스트케이스의 개수 T가 주어진다. T는 최대 1,000,000이다. 다음 T줄에는 각각 두 정수 A와 B가 주어진다. A와 B는 1 이상, 1,000 이하이다.\n",
    "\n",
    "# 출력\n",
    "# 각 테스트케이스마다 A+B를 한 줄에 하나씩 순서대로 출력한다."
   ]
  },
  {
   "cell_type": "code",
   "execution_count": 31,
   "id": "9f9ba14c",
   "metadata": {},
   "outputs": [
    {
     "name": "stdout",
     "output_type": "stream",
     "text": [
      "5\n",
      "5\n",
      "10\n"
     ]
    }
   ],
   "source": [
    "# 백준 15552번 # 10분 초과 문제미해결\n",
    "# 빠른 a + b\n",
    "\n",
    "a = int(input())\n",
    "b = int(input())\n",
    "#NOTE : 문제 이해가 안됨\n",
    "if 1 <= a < 1000 and 1 <= b < 1000: # A와 B는 1이상 , 1,000이하\n",
    "    print(a+b) # A+B\n",
    "else:\n",
    "    pass"
   ]
  },
  {
   "cell_type": "markdown",
   "id": "bc216c9a",
   "metadata": {},
   "source": [
    "2741번 백준 for문 - \n",
    "N 찍기\n",
    "\n",
    "문제\n",
    "자연수 N이 주어졌을 때, 1부터 N까지 한 줄에 하나씩 출력하는 프로그램을 작성하시오.\n",
    "\n",
    "입력\n",
    "첫째 줄에 100,000보다 작거나 같은 자연수 N이 주어진다.\n",
    "\n",
    "출력\n",
    "첫째 줄부터 N번째 줄 까지 차례대로 출력한다."
   ]
  },
  {
   "cell_type": "code",
   "execution_count": 1,
   "id": "2f16f142",
   "metadata": {},
   "outputs": [
    {
     "name": "stdout",
     "output_type": "stream",
     "text": [
      "5\n",
      "1 성공\n",
      "2 성공\n",
      "3 성공\n",
      "4 성공\n",
      "5 성공\n"
     ]
    }
   ],
   "source": [
    "n = int(input())\n",
    "\n",
    "if 1 <= n <100000:\n",
    "    for i in range(1,n+1):\n",
    "        print(i,'성공')\n",
    "else:\n",
    "    pass"
   ]
  },
  {
   "cell_type": "code",
   "execution_count": 1,
   "id": "abfec6bf",
   "metadata": {},
   "outputs": [
    {
     "name": "stdout",
     "output_type": "stream",
     "text": [
      "5\n",
      "5 성공\n",
      "4 성공\n",
      "3 성공\n",
      "2 성공\n",
      "1 성공\n"
     ]
    }
   ],
   "source": [
    "# NOTE : 쥬피터 노트북이 실행(Run)이 안될때는 저장 후 다시 실행하기 / 방금전까지 계속 실행이 안되었음\n",
    "# n값을 (역행)거꾸로 출력\n",
    "# 거꾸로 하는 reversed를 사용하면 될 것 같은데 / 안되네요.\n",
    "# reversed 사용하는 방법을 보고 다시하니깐 되네요.와우\n",
    "n = int(input())\n",
    "\n",
    "if 1 <= n < 100000:\n",
    "    for i in reversed(range (1,n+1)):\n",
    "        print(i,'성공')"
   ]
  },
  {
   "cell_type": "markdown",
   "id": "28aee7bc",
   "metadata": {},
   "source": [
    "백준 11021번 - for문_\n",
    "A+B - 7\n",
    "\n",
    "문제\n",
    "두 정수 A와 B를 입력받은 다음, A+B를 출력하는 프로그램을 작성하시오.\n",
    "\n",
    "입력\n",
    "첫째 줄에 테스트 케이스의 개수 T가 주어진다.\n",
    "\n",
    "각 테스트 케이스는 한 줄로 이루어져 있으며, 각 줄에 A와 B가 주어진다. (0 < A, B < 10)\n",
    "\n",
    "출력\n",
    "각 테스트 케이스마다 \"Case #x: \"를 출력한 다음, A+B를 출력한다. 테스트 케이스 번호는 1부터 시작한다."
   ]
  },
  {
   "cell_type": "code",
   "execution_count": 6,
   "id": "d232d0ef",
   "metadata": {},
   "outputs": [
    {
     "ename": "SyntaxError",
     "evalue": "cannot assign to operator (2785929394.py, line 7)",
     "output_type": "error",
     "traceback": [
      "\u001b[0;36m  File \u001b[0;32m\"/tmp/ipykernel_73/2785929394.py\"\u001b[0;36m, line \u001b[0;32m7\u001b[0m\n\u001b[0;31m    x+1 = a+b\u001b[0m\n\u001b[0m    ^\u001b[0m\n\u001b[0;31mSyntaxError\u001b[0m\u001b[0;31m:\u001b[0m cannot assign to operator\n"
     ]
    }
   ],
   "source": [
    "# Case #x: - 출력에 넣을 것 # 10분초과\n",
    "# 문제 이해가 안됨\n",
    "\n",
    "# 두 정수값 받기\n",
    "a = int(input())\n",
    "b = int(input())\n",
    "\n",
    "for i in range(1,x): # FIXME : 감이 안옴\n",
    "    print('Case #',x,':',a+b) # FIXME : X를 "
   ]
  },
  {
   "cell_type": "code",
   "execution_count": 7,
   "id": "0e8da03e",
   "metadata": {},
   "outputs": [],
   "source": [
    "# 백준 11022번 / A+B - 8\n",
    "\n"
   ]
  },
  {
   "cell_type": "code",
   "execution_count": 13,
   "id": "18dbd5c5",
   "metadata": {},
   "outputs": [
    {
     "name": "stdout",
     "output_type": "stream",
     "text": [
      "5\n",
      "*\n",
      "**\n",
      "***\n",
      "****\n",
      "*****\n"
     ]
    }
   ],
   "source": [
    "# 백준 2438번 for문 별찍기 -1\n",
    "# n별 찍기\n",
    "n = int(input()) \n",
    "if 1 <= n <= 100:\n",
    "    for i in range(1,n+1):\n",
    "        print('*'*i)"
   ]
  },
  {
   "cell_type": "code",
   "execution_count": 19,
   "id": "a7d10d03",
   "metadata": {},
   "outputs": [
    {
     "name": "stdout",
     "output_type": "stream",
     "text": [
      "5\n",
      "    *\n",
      "   **\n",
      "  ***\n",
      " ****\n",
      "*****\n"
     ]
    }
   ],
   "source": [
    "#백준 2439번 for문_별 찍기 - 2\n",
    "\n",
    "#print(str(num1).rjust(5))_블로그에서 봄\n",
    "\n",
    "# 백준 2438번 for문 별찍기 -1\n",
    "# n별 찍기\n",
    "n = int(input()) \n",
    "\n",
    "if 1 <= n <= 100:\n",
    "    for i in range(1,n+1):\n",
    "        print(str('*'*i).rjust(n)) # 적용해봄 처음 써봄/ 되네.와우/문자로 형변환"
   ]
  },
  {
   "cell_type": "code",
   "execution_count": 20,
   "id": "797a1bea",
   "metadata": {},
   "outputs": [],
   "source": [
    "# X보다 작은 수 - 백준 10871번\n",
    "# 공백 end=' '\n"
   ]
  },
  {
   "cell_type": "markdown",
   "id": "5a3d8c81",
   "metadata": {},
   "source": [
    "[X보다 작은 수 - 백준_for문 10871번](https://www.acmicpc.net/problem/10871)\n",
    ">문제 이해 / \n",
    "수열에 이해필요\n",
    "\n"
   ]
  }
 ],
 "metadata": {
  "kernelspec": {
   "display_name": "Python 3 (ipykernel)",
   "language": "python",
   "name": "python3"
  },
  "language_info": {
   "codemirror_mode": {
    "name": "ipython",
    "version": 3
   },
   "file_extension": ".py",
   "mimetype": "text/x-python",
   "name": "python",
   "nbconvert_exporter": "python",
   "pygments_lexer": "ipython3",
   "version": "3.9.7"
  }
 },
 "nbformat": 4,
 "nbformat_minor": 5
}
